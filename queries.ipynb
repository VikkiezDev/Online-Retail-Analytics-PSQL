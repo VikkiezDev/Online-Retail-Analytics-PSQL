{
    "metadata": {
        "kernelspec": {
            "name": "SQL",
            "display_name": "SQL",
            "language": "sql"
        },
        "language_info": {
            "name": "sql",
            "version": ""
        }
    },
    "nbformat_minor": 2,
    "nbformat": 4,
    "cells": [
        {
            "cell_type": "markdown",
            "source": [
                "# Postgresql project"
            ],
            "metadata": {
                "azdata_cell_guid": "a49f9ba8-388d-4435-bcef-1d7086ce8dc5"
            },
            "attachments": {}
        },
        {
            "cell_type": "markdown",
            "source": [
                "## Create Table:"
            ],
            "metadata": {
                "azdata_cell_guid": "cf51158c-2717-40b4-8fc5-535afd86641c"
            },
            "attachments": {}
        },
        {
            "cell_type": "code",
            "source": [
                "DROP TABLE IF EXISTS retail_sales;\n",
                "CREATE TABLE retail_sales\n",
                "            (\n",
                "                transaction_id INT PRIMARY KEY,\t\n",
                "                sale_date DATE,\t \n",
                "                sale_time TIME,\t\n",
                "                customer_id\tINT,\n",
                "                gender\tVARCHAR(15),\n",
                "                age\tINT,\n",
                "                category VARCHAR(15),\t\n",
                "                quantity\tINT,\n",
                "                price_per_unit FLOAT,\t\n",
                "                cogs\tFLOAT,\n",
                "                total_sale FLOAT\n",
                "            );"
            ],
            "metadata": {
                "azdata_cell_guid": "24fc0720-5613-44f6-9831-ae8063dc1c31",
                "language": "sql"
            },
            "outputs": [],
            "execution_count": null
        },
        {
            "cell_type": "code",
            "source": [
                "SELECT * FROM retail_sales\n",
                "LIMIT 10;"
            ],
            "metadata": {
                "language": "sql",
                "azdata_cell_guid": "a10ac60d-8d60-4de2-935a-22e30d8e11bd"
            },
            "outputs": [
                {
                    "output_type": "display_data",
                    "data": {
                        "text/html": "(10 row(s) affected)"
                    },
                    "metadata": {}
                },
                {
                    "output_type": "display_data",
                    "data": {
                        "text/html": "Total execution time: 00:00:00.140"
                    },
                    "metadata": {}
                },
                {
                    "output_type": "execute_result",
                    "metadata": {},
                    "execution_count": 1,
                    "data": {
                        "application/vnd.dataresource+json": {
                            "schema": {
                                "fields": [
                                    {
                                        "name": "transaction_id"
                                    },
                                    {
                                        "name": "sale_date"
                                    },
                                    {
                                        "name": "sale_time"
                                    },
                                    {
                                        "name": "customer_id"
                                    },
                                    {
                                        "name": "gender"
                                    },
                                    {
                                        "name": "age"
                                    },
                                    {
                                        "name": "category"
                                    },
                                    {
                                        "name": "quantity"
                                    },
                                    {
                                        "name": "price_per_unit"
                                    },
                                    {
                                        "name": "cogs"
                                    },
                                    {
                                        "name": "total_sale"
                                    }
                                ]
                            },
                            "data": [
                                {
                                    "transaction_id": "180",
                                    "sale_date": "2022-11-05",
                                    "sale_time": "10:47:00",
                                    "customer_id": "117",
                                    "gender": "Male",
                                    "age": "41",
                                    "category": "Clothing",
                                    "quantity": "3",
                                    "price_per_unit": "300",
                                    "cogs": "129",
                                    "total_sale": "900"
                                },
                                {
                                    "transaction_id": "522",
                                    "sale_date": "2022-07-09",
                                    "sale_time": "11:00:00",
                                    "customer_id": "52",
                                    "gender": "Male",
                                    "age": "46",
                                    "category": "Beauty",
                                    "quantity": "3",
                                    "price_per_unit": "500",
                                    "cogs": "145",
                                    "total_sale": "1500"
                                },
                                {
                                    "transaction_id": "559",
                                    "sale_date": "2022-12-12",
                                    "sale_time": "10:48:00",
                                    "customer_id": "5",
                                    "gender": "Female",
                                    "age": "40",
                                    "category": "Clothing",
                                    "quantity": "4",
                                    "price_per_unit": "300",
                                    "cogs": "84",
                                    "total_sale": "1200"
                                },
                                {
                                    "transaction_id": "1180",
                                    "sale_date": "2022-01-06",
                                    "sale_time": "08:53:00",
                                    "customer_id": "85",
                                    "gender": "Male",
                                    "age": "41",
                                    "category": "Clothing",
                                    "quantity": "3",
                                    "price_per_unit": "300",
                                    "cogs": "129",
                                    "total_sale": "900"
                                },
                                {
                                    "transaction_id": "1522",
                                    "sale_date": "2022-11-14",
                                    "sale_time": "08:35:00",
                                    "customer_id": "48",
                                    "gender": "Male",
                                    "age": "46",
                                    "category": "Beauty",
                                    "quantity": "3",
                                    "price_per_unit": "500",
                                    "cogs": "235",
                                    "total_sale": "1500"
                                },
                                {
                                    "transaction_id": "1559",
                                    "sale_date": "2022-08-20",
                                    "sale_time": "07:40:00",
                                    "customer_id": "49",
                                    "gender": "Female",
                                    "age": "40",
                                    "category": "Clothing",
                                    "quantity": "4",
                                    "price_per_unit": "300",
                                    "cogs": "144",
                                    "total_sale": "1200"
                                },
                                {
                                    "transaction_id": "163",
                                    "sale_date": "2022-10-31",
                                    "sale_time": "09:38:00",
                                    "customer_id": "144",
                                    "gender": "Female",
                                    "age": "64",
                                    "category": "Clothing",
                                    "quantity": "3",
                                    "price_per_unit": "50",
                                    "cogs": "23",
                                    "total_sale": "150"
                                },
                                {
                                    "transaction_id": "303",
                                    "sale_date": "2022-04-22",
                                    "sale_time": "11:09:00",
                                    "customer_id": "54",
                                    "gender": "Male",
                                    "age": "19",
                                    "category": "Electronics",
                                    "quantity": "3",
                                    "price_per_unit": "30",
                                    "cogs": "14.7",
                                    "total_sale": "90"
                                },
                                {
                                    "transaction_id": "421",
                                    "sale_date": "2022-04-08",
                                    "sale_time": "08:43:00",
                                    "customer_id": "66",
                                    "gender": "Female",
                                    "age": "37",
                                    "category": "Clothing",
                                    "quantity": "3",
                                    "price_per_unit": "500",
                                    "cogs": "235",
                                    "total_sale": "1500"
                                },
                                {
                                    "transaction_id": "979",
                                    "sale_date": "2022-05-18",
                                    "sale_time": "10:18:00",
                                    "customer_id": "6",
                                    "gender": "Female",
                                    "age": "19",
                                    "category": "Beauty",
                                    "quantity": "1",
                                    "price_per_unit": "25",
                                    "cogs": "10.5",
                                    "total_sale": "25"
                                }
                            ]
                        },
                        "text/html": [
                            "<table>",
                            "<tr><th>transaction_id</th><th>sale_date</th><th>sale_time</th><th>customer_id</th><th>gender</th><th>age</th><th>category</th><th>quantity</th><th>price_per_unit</th><th>cogs</th><th>total_sale</th></tr>",
                            "<tr><td>180</td><td>2022-11-05</td><td>10:47:00</td><td>117</td><td>Male</td><td>41</td><td>Clothing</td><td>3</td><td>300</td><td>129</td><td>900</td></tr>",
                            "<tr><td>522</td><td>2022-07-09</td><td>11:00:00</td><td>52</td><td>Male</td><td>46</td><td>Beauty</td><td>3</td><td>500</td><td>145</td><td>1500</td></tr>",
                            "<tr><td>559</td><td>2022-12-12</td><td>10:48:00</td><td>5</td><td>Female</td><td>40</td><td>Clothing</td><td>4</td><td>300</td><td>84</td><td>1200</td></tr>",
                            "<tr><td>1180</td><td>2022-01-06</td><td>08:53:00</td><td>85</td><td>Male</td><td>41</td><td>Clothing</td><td>3</td><td>300</td><td>129</td><td>900</td></tr>",
                            "<tr><td>1522</td><td>2022-11-14</td><td>08:35:00</td><td>48</td><td>Male</td><td>46</td><td>Beauty</td><td>3</td><td>500</td><td>235</td><td>1500</td></tr>",
                            "<tr><td>1559</td><td>2022-08-20</td><td>07:40:00</td><td>49</td><td>Female</td><td>40</td><td>Clothing</td><td>4</td><td>300</td><td>144</td><td>1200</td></tr>",
                            "<tr><td>163</td><td>2022-10-31</td><td>09:38:00</td><td>144</td><td>Female</td><td>64</td><td>Clothing</td><td>3</td><td>50</td><td>23</td><td>150</td></tr>",
                            "<tr><td>303</td><td>2022-04-22</td><td>11:09:00</td><td>54</td><td>Male</td><td>19</td><td>Electronics</td><td>3</td><td>30</td><td>14.7</td><td>90</td></tr>",
                            "<tr><td>421</td><td>2022-04-08</td><td>08:43:00</td><td>66</td><td>Female</td><td>37</td><td>Clothing</td><td>3</td><td>500</td><td>235</td><td>1500</td></tr>",
                            "<tr><td>979</td><td>2022-05-18</td><td>10:18:00</td><td>6</td><td>Female</td><td>19</td><td>Beauty</td><td>1</td><td>25</td><td>10.5</td><td>25</td></tr>",
                            "</table>"
                        ]
                    }
                }
            ],
            "execution_count": 1
        },
        {
            "cell_type": "markdown",
            "source": [
                "## Data Exploration"
            ],
            "metadata": {
                "language": "sql",
                "azdata_cell_guid": "d87c686a-8919-4fef-8fbb-8a56293b5352"
            },
            "attachments": {}
        },
        {
            "cell_type": "code",
            "source": [
                "-- No. of items per category\n",
                "SELECT\n",
                "    category,\n",
                "    COUNT(transaction_id) AS items_per_category\n",
                "FROM\n",
                "    retail_sales\n",
                "GROUP BY\n",
                "    category"
            ],
            "metadata": {
                "language": "sql",
                "azdata_cell_guid": "2900b9cc-ca65-4730-87e1-d7b2d411a069"
            },
            "outputs": [
                {
                    "output_type": "display_data",
                    "data": {
                        "text/html": "(3 row(s) affected)"
                    },
                    "metadata": {}
                },
                {
                    "output_type": "display_data",
                    "data": {
                        "text/html": "Total execution time: 00:00:00.061"
                    },
                    "metadata": {}
                },
                {
                    "output_type": "execute_result",
                    "metadata": {
                        "azdata_chartOptions": {
                            "type": "bar",
                            "dataDirection": "horizontal",
                            "columnsAsLabels": true,
                            "labelFirstColumn": true,
                            "legendPosition": "top"
                        }
                    },
                    "execution_count": 2,
                    "data": {
                        "application/vnd.dataresource+json": {
                            "schema": {
                                "fields": [
                                    {
                                        "name": "category"
                                    },
                                    {
                                        "name": "items_per_category"
                                    }
                                ]
                            },
                            "data": [
                                {
                                    "category": "Electronics",
                                    "items_per_category": "684"
                                },
                                {
                                    "category": "Clothing",
                                    "items_per_category": "701"
                                },
                                {
                                    "category": "Beauty",
                                    "items_per_category": "612"
                                }
                            ]
                        },
                        "text/html": [
                            "<table>",
                            "<tr><th>category</th><th>items_per_category</th></tr>",
                            "<tr><td>Electronics</td><td>684</td></tr>",
                            "<tr><td>Clothing</td><td>701</td></tr>",
                            "<tr><td>Beauty</td><td>612</td></tr>",
                            "</table>"
                        ]
                    }
                }
            ],
            "execution_count": 2
        },
        {
            "cell_type": "code",
            "source": [
                "-- No. of unique customers we have\n",
                "SELECT\n",
                "    DISTINCT(COUNT(customer_id)) FROM retail_sales ORDER BY customer_id ASC"
            ],
            "metadata": {
                "language": "sql",
                "azdata_cell_guid": "5dc3d168-63f7-49f2-ab8a-027112d2e5a4",
                "tags": []
            },
            "outputs": [
                {
                    "output_type": "error",
                    "evalue": "for SELECT DISTINCT, ORDER BY expressions must appear in select list",
                    "ename": "",
                    "traceback": []
                },
                {
                    "output_type": "display_data",
                    "data": {
                        "text/html": "Total execution time: 00:00:00.071"
                    },
                    "metadata": {}
                }
            ],
            "execution_count": 3
        },
        {
            "cell_type": "code",
            "source": [
                "-- Days with no sale of products\n",
                "SELECT\n",
                "    (EXTRACT(DAYS FROM sale_date)) AS working_days\n",
                "FROM\n",
                "    retail_sales\n",
                "GROUP BY\n",
                "    sale_date\n",
                "ORDER BY\n",
                "    sale_date;"
            ],
            "metadata": {
                "language": "sql",
                "azdata_cell_guid": "972e02db-3683-47a7-99c4-2a9df93dc616"
            },
            "outputs": [
                {
                    "output_type": "display_data",
                    "data": {
                        "text/html": "(647 row(s) affected)"
                    },
                    "metadata": {}
                },
                {
                    "output_type": "display_data",
                    "data": {
                        "text/html": "Total execution time: 00:00:00.038"
                    },
                    "metadata": {}
                },
                {
                    "output_type": "execute_result",
                    "metadata": {},
                    "execution_count": 4,
                    "data": {
                        "application/vnd.dataresource+json": {
                            "schema": {
                                "fields": [
                                    {
                                        "name": "working_days"
                                    }
                                ]
                            },
                            "data": [
                                {
                                    "working_days": "1"
                                },
                                {
                                    "working_days": "2"
                                },
                                {
                                    "working_days": "3"
                                },
                                {
                                    "working_days": "4"
                                },
                                {
                                    "working_days": "5"
                                },
                                {
                                    "working_days": "6"
                                },
                                {
                                    "working_days": "7"
                                },
                                {
                                    "working_days": "8"
                                },
                                {
                                    "working_days": "9"
                                },
                                {
                                    "working_days": "10"
                                },
                                {
                                    "working_days": "12"
                                },
                                {
                                    "working_days": "14"
                                },
                                {
                                    "working_days": "15"
                                },
                                {
                                    "working_days": "16"
                                },
                                {
                                    "working_days": "17"
                                },
                                {
                                    "working_days": "19"
                                },
                                {
                                    "working_days": "20"
                                },
                                {
                                    "working_days": "21"
                                },
                                {
                                    "working_days": "23"
                                },
                                {
                                    "working_days": "24"
                                },
                                {
                                    "working_days": "25"
                                },
                                {
                                    "working_days": "26"
                                },
                                {
                                    "working_days": "27"
                                },
                                {
                                    "working_days": "28"
                                },
                                {
                                    "working_days": "29"
                                },
                                {
                                    "working_days": "30"
                                },
                                {
                                    "working_days": "1"
                                },
                                {
                                    "working_days": "2"
                                },
                                {
                                    "working_days": "3"
                                },
                                {
                                    "working_days": "4"
                                },
                                {
                                    "working_days": "5"
                                },
                                {
                                    "working_days": "6"
                                },
                                {
                                    "working_days": "8"
                                },
                                {
                                    "working_days": "10"
                                },
                                {
                                    "working_days": "11"
                                },
                                {
                                    "working_days": "12"
                                },
                                {
                                    "working_days": "13"
                                },
                                {
                                    "working_days": "14"
                                },
                                {
                                    "working_days": "15"
                                },
                                {
                                    "working_days": "16"
                                },
                                {
                                    "working_days": "17"
                                },
                                {
                                    "working_days": "20"
                                },
                                {
                                    "working_days": "21"
                                },
                                {
                                    "working_days": "23"
                                },
                                {
                                    "working_days": "24"
                                },
                                {
                                    "working_days": "25"
                                },
                                {
                                    "working_days": "26"
                                },
                                {
                                    "working_days": "27"
                                },
                                {
                                    "working_days": "28"
                                },
                                {
                                    "working_days": "1"
                                },
                                {
                                    "working_days": "2"
                                },
                                {
                                    "working_days": "3"
                                },
                                {
                                    "working_days": "5"
                                },
                                {
                                    "working_days": "6"
                                },
                                {
                                    "working_days": "8"
                                },
                                {
                                    "working_days": "9"
                                },
                                {
                                    "working_days": "10"
                                },
                                {
                                    "working_days": "11"
                                },
                                {
                                    "working_days": "12"
                                },
                                {
                                    "working_days": "13"
                                },
                                {
                                    "working_days": "15"
                                },
                                {
                                    "working_days": "16"
                                },
                                {
                                    "working_days": "17"
                                },
                                {
                                    "working_days": "18"
                                },
                                {
                                    "working_days": "19"
                                },
                                {
                                    "working_days": "20"
                                },
                                {
                                    "working_days": "21"
                                },
                                {
                                    "working_days": "22"
                                },
                                {
                                    "working_days": "23"
                                },
                                {
                                    "working_days": "24"
                                },
                                {
                                    "working_days": "25"
                                },
                                {
                                    "working_days": "26"
                                },
                                {
                                    "working_days": "27"
                                },
                                {
                                    "working_days": "28"
                                },
                                {
                                    "working_days": "29"
                                },
                                {
                                    "working_days": "31"
                                },
                                {
                                    "working_days": "1"
                                },
                                {
                                    "working_days": "3"
                                },
                                {
                                    "working_days": "4"
                                },
                                {
                                    "working_days": "5"
                                },
                                {
                                    "working_days": "6"
                                },
                                {
                                    "working_days": "7"
                                },
                                {
                                    "working_days": "8"
                                },
                                {
                                    "working_days": "9"
                                },
                                {
                                    "working_days": "10"
                                },
                                {
                                    "working_days": "11"
                                },
                                {
                                    "working_days": "13"
                                },
                                {
                                    "working_days": "14"
                                },
                                {
                                    "working_days": "15"
                                },
                                {
                                    "working_days": "16"
                                },
                                {
                                    "working_days": "17"
                                },
                                {
                                    "working_days": "18"
                                },
                                {
                                    "working_days": "19"
                                },
                                {
                                    "working_days": "20"
                                },
                                {
                                    "working_days": "21"
                                },
                                {
                                    "working_days": "22"
                                },
                                {
                                    "working_days": "23"
                                },
                                {
                                    "working_days": "26"
                                },
                                {
                                    "working_days": "28"
                                },
                                {
                                    "working_days": "29"
                                },
                                {
                                    "working_days": "30"
                                },
                                {
                                    "working_days": "1"
                                },
                                {
                                    "working_days": "2"
                                },
                                {
                                    "working_days": "3"
                                },
                                {
                                    "working_days": "4"
                                },
                                {
                                    "working_days": "6"
                                },
                                {
                                    "working_days": "7"
                                },
                                {
                                    "working_days": "8"
                                },
                                {
                                    "working_days": "10"
                                },
                                {
                                    "working_days": "11"
                                },
                                {
                                    "working_days": "12"
                                },
                                {
                                    "working_days": "14"
                                },
                                {
                                    "working_days": "15"
                                },
                                {
                                    "working_days": "16"
                                },
                                {
                                    "working_days": "17"
                                },
                                {
                                    "working_days": "18"
                                },
                                {
                                    "working_days": "21"
                                },
                                {
                                    "working_days": "22"
                                },
                                {
                                    "working_days": "23"
                                },
                                {
                                    "working_days": "24"
                                },
                                {
                                    "working_days": "27"
                                },
                                {
                                    "working_days": "30"
                                },
                                {
                                    "working_days": "31"
                                },
                                {
                                    "working_days": "1"
                                },
                                {
                                    "working_days": "2"
                                },
                                {
                                    "working_days": "3"
                                },
                                {
                                    "working_days": "5"
                                },
                                {
                                    "working_days": "7"
                                },
                                {
                                    "working_days": "9"
                                },
                                {
                                    "working_days": "10"
                                },
                                {
                                    "working_days": "11"
                                },
                                {
                                    "working_days": "13"
                                },
                                {
                                    "working_days": "14"
                                },
                                {
                                    "working_days": "15"
                                },
                                {
                                    "working_days": "16"
                                },
                                {
                                    "working_days": "17"
                                },
                                {
                                    "working_days": "18"
                                },
                                {
                                    "working_days": "19"
                                },
                                {
                                    "working_days": "20"
                                },
                                {
                                    "working_days": "21"
                                },
                                {
                                    "working_days": "23"
                                },
                                {
                                    "working_days": "24"
                                },
                                {
                                    "working_days": "25"
                                },
                                {
                                    "working_days": "27"
                                },
                                {
                                    "working_days": "29"
                                },
                                {
                                    "working_days": "30"
                                },
                                {
                                    "working_days": "1"
                                },
                                {
                                    "working_days": "2"
                                },
                                {
                                    "working_days": "4"
                                },
                                {
                                    "working_days": "5"
                                },
                                {
                                    "working_days": "6"
                                },
                                {
                                    "working_days": "7"
                                },
                                {
                                    "working_days": "8"
                                },
                                {
                                    "working_days": "9"
                                },
                                {
                                    "working_days": "10"
                                },
                                {
                                    "working_days": "11"
                                },
                                {
                                    "working_days": "12"
                                },
                                {
                                    "working_days": "13"
                                },
                                {
                                    "working_days": "14"
                                },
                                {
                                    "working_days": "16"
                                },
                                {
                                    "working_days": "17"
                                },
                                {
                                    "working_days": "18"
                                },
                                {
                                    "working_days": "19"
                                },
                                {
                                    "working_days": "20"
                                },
                                {
                                    "working_days": "21"
                                },
                                {
                                    "working_days": "24"
                                },
                                {
                                    "working_days": "26"
                                },
                                {
                                    "working_days": "29"
                                },
                                {
                                    "working_days": "31"
                                },
                                {
                                    "working_days": "1"
                                },
                                {
                                    "working_days": "2"
                                },
                                {
                                    "working_days": "4"
                                },
                                {
                                    "working_days": "5"
                                },
                                {
                                    "working_days": "6"
                                },
                                {
                                    "working_days": "7"
                                },
                                {
                                    "working_days": "8"
                                },
                                {
                                    "working_days": "9"
                                },
                                {
                                    "working_days": "11"
                                },
                                {
                                    "working_days": "12"
                                },
                                {
                                    "working_days": "13"
                                },
                                {
                                    "working_days": "14"
                                },
                                {
                                    "working_days": "15"
                                },
                                {
                                    "working_days": "16"
                                },
                                {
                                    "working_days": "17"
                                },
                                {
                                    "working_days": "18"
                                },
                                {
                                    "working_days": "19"
                                },
                                {
                                    "working_days": "20"
                                },
                                {
                                    "working_days": "21"
                                },
                                {
                                    "working_days": "22"
                                },
                                {
                                    "working_days": "23"
                                },
                                {
                                    "working_days": "25"
                                },
                                {
                                    "working_days": "26"
                                },
                                {
                                    "working_days": "27"
                                },
                                {
                                    "working_days": "28"
                                },
                                {
                                    "working_days": "29"
                                },
                                {
                                    "working_days": "31"
                                },
                                {
                                    "working_days": "1"
                                },
                                {
                                    "working_days": "2"
                                },
                                {
                                    "working_days": "3"
                                },
                                {
                                    "working_days": "4"
                                },
                                {
                                    "working_days": "5"
                                },
                                {
                                    "working_days": "6"
                                },
                                {
                                    "working_days": "7"
                                },
                                {
                                    "working_days": "8"
                                },
                                {
                                    "working_days": "9"
                                },
                                {
                                    "working_days": "10"
                                },
                                {
                                    "working_days": "11"
                                },
                                {
                                    "working_days": "12"
                                },
                                {
                                    "working_days": "13"
                                },
                                {
                                    "working_days": "14"
                                },
                                {
                                    "working_days": "15"
                                },
                                {
                                    "working_days": "16"
                                },
                                {
                                    "working_days": "17"
                                },
                                {
                                    "working_days": "18"
                                },
                                {
                                    "working_days": "19"
                                },
                                {
                                    "working_days": "20"
                                },
                                {
                                    "working_days": "21"
                                },
                                {
                                    "working_days": "22"
                                },
                                {
                                    "working_days": "23"
                                },
                                {
                                    "working_days": "24"
                                },
                                {
                                    "working_days": "25"
                                },
                                {
                                    "working_days": "26"
                                },
                                {
                                    "working_days": "27"
                                },
                                {
                                    "working_days": "28"
                                },
                                {
                                    "working_days": "29"
                                },
                                {
                                    "working_days": "30"
                                },
                                {
                                    "working_days": "1"
                                },
                                {
                                    "working_days": "2"
                                },
                                {
                                    "working_days": "3"
                                },
                                {
                                    "working_days": "4"
                                },
                                {
                                    "working_days": "5"
                                },
                                {
                                    "working_days": "6"
                                },
                                {
                                    "working_days": "7"
                                },
                                {
                                    "working_days": "8"
                                },
                                {
                                    "working_days": "9"
                                },
                                {
                                    "working_days": "10"
                                },
                                {
                                    "working_days": "11"
                                },
                                {
                                    "working_days": "12"
                                },
                                {
                                    "working_days": "13"
                                },
                                {
                                    "working_days": "14"
                                },
                                {
                                    "working_days": "15"
                                },
                                {
                                    "working_days": "16"
                                },
                                {
                                    "working_days": "17"
                                },
                                {
                                    "working_days": "18"
                                },
                                {
                                    "working_days": "19"
                                },
                                {
                                    "working_days": "20"
                                },
                                {
                                    "working_days": "21"
                                },
                                {
                                    "working_days": "22"
                                },
                                {
                                    "working_days": "23"
                                },
                                {
                                    "working_days": "24"
                                },
                                {
                                    "working_days": "25"
                                },
                                {
                                    "working_days": "26"
                                },
                                {
                                    "working_days": "27"
                                },
                                {
                                    "working_days": "29"
                                },
                                {
                                    "working_days": "30"
                                },
                                {
                                    "working_days": "31"
                                },
                                {
                                    "working_days": "1"
                                },
                                {
                                    "working_days": "2"
                                },
                                {
                                    "working_days": "3"
                                },
                                {
                                    "working_days": "4"
                                },
                                {
                                    "working_days": "5"
                                },
                                {
                                    "working_days": "6"
                                },
                                {
                                    "working_days": "7"
                                },
                                {
                                    "working_days": "8"
                                },
                                {
                                    "working_days": "9"
                                },
                                {
                                    "working_days": "10"
                                },
                                {
                                    "working_days": "11"
                                },
                                {
                                    "working_days": "12"
                                },
                                {
                                    "working_days": "13"
                                },
                                {
                                    "working_days": "14"
                                },
                                {
                                    "working_days": "15"
                                },
                                {
                                    "working_days": "17"
                                },
                                {
                                    "working_days": "18"
                                },
                                {
                                    "working_days": "19"
                                },
                                {
                                    "working_days": "20"
                                },
                                {
                                    "working_days": "21"
                                },
                                {
                                    "working_days": "22"
                                },
                                {
                                    "working_days": "23"
                                },
                                {
                                    "working_days": "24"
                                },
                                {
                                    "working_days": "25"
                                },
                                {
                                    "working_days": "26"
                                },
                                {
                                    "working_days": "27"
                                },
                                {
                                    "working_days": "28"
                                },
                                {
                                    "working_days": "29"
                                },
                                {
                                    "working_days": "30"
                                },
                                {
                                    "working_days": "1"
                                },
                                {
                                    "working_days": "2"
                                },
                                {
                                    "working_days": "3"
                                },
                                {
                                    "working_days": "4"
                                },
                                {
                                    "working_days": "5"
                                },
                                {
                                    "working_days": "6"
                                },
                                {
                                    "working_days": "7"
                                },
                                {
                                    "working_days": "8"
                                },
                                {
                                    "working_days": "9"
                                },
                                {
                                    "working_days": "10"
                                },
                                {
                                    "working_days": "11"
                                },
                                {
                                    "working_days": "12"
                                },
                                {
                                    "working_days": "13"
                                },
                                {
                                    "working_days": "14"
                                },
                                {
                                    "working_days": "15"
                                },
                                {
                                    "working_days": "16"
                                },
                                {
                                    "working_days": "17"
                                },
                                {
                                    "working_days": "18"
                                },
                                {
                                    "working_days": "19"
                                },
                                {
                                    "working_days": "20"
                                },
                                {
                                    "working_days": "21"
                                },
                                {
                                    "working_days": "22"
                                },
                                {
                                    "working_days": "23"
                                },
                                {
                                    "working_days": "24"
                                },
                                {
                                    "working_days": "25"
                                },
                                {
                                    "working_days": "26"
                                },
                                {
                                    "working_days": "27"
                                },
                                {
                                    "working_days": "28"
                                },
                                {
                                    "working_days": "29"
                                },
                                {
                                    "working_days": "30"
                                },
                                {
                                    "working_days": "31"
                                },
                                {
                                    "working_days": "1"
                                },
                                {
                                    "working_days": "2"
                                },
                                {
                                    "working_days": "3"
                                },
                                {
                                    "working_days": "4"
                                },
                                {
                                    "working_days": "5"
                                },
                                {
                                    "working_days": "6"
                                },
                                {
                                    "working_days": "7"
                                },
                                {
                                    "working_days": "8"
                                },
                                {
                                    "working_days": "9"
                                },
                                {
                                    "working_days": "10"
                                },
                                {
                                    "working_days": "11"
                                },
                                {
                                    "working_days": "12"
                                },
                                {
                                    "working_days": "13"
                                },
                                {
                                    "working_days": "14"
                                },
                                {
                                    "working_days": "15"
                                },
                                {
                                    "working_days": "16"
                                },
                                {
                                    "working_days": "18"
                                },
                                {
                                    "working_days": "19"
                                },
                                {
                                    "working_days": "20"
                                },
                                {
                                    "working_days": "21"
                                },
                                {
                                    "working_days": "22"
                                },
                                {
                                    "working_days": "23"
                                },
                                {
                                    "working_days": "24"
                                },
                                {
                                    "working_days": "25"
                                },
                                {
                                    "working_days": "26"
                                },
                                {
                                    "working_days": "28"
                                },
                                {
                                    "working_days": "29"
                                },
                                {
                                    "working_days": "30"
                                },
                                {
                                    "working_days": "31"
                                },
                                {
                                    "working_days": "1"
                                },
                                {
                                    "working_days": "3"
                                },
                                {
                                    "working_days": "4"
                                },
                                {
                                    "working_days": "5"
                                },
                                {
                                    "working_days": "6"
                                },
                                {
                                    "working_days": "8"
                                },
                                {
                                    "working_days": "9"
                                },
                                {
                                    "working_days": "10"
                                },
                                {
                                    "working_days": "11"
                                },
                                {
                                    "working_days": "12"
                                },
                                {
                                    "working_days": "13"
                                },
                                {
                                    "working_days": "16"
                                },
                                {
                                    "working_days": "17"
                                },
                                {
                                    "working_days": "18"
                                },
                                {
                                    "working_days": "19"
                                },
                                {
                                    "working_days": "20"
                                },
                                {
                                    "working_days": "21"
                                },
                                {
                                    "working_days": "22"
                                },
                                {
                                    "working_days": "23"
                                },
                                {
                                    "working_days": "24"
                                },
                                {
                                    "working_days": "25"
                                },
                                {
                                    "working_days": "28"
                                },
                                {
                                    "working_days": "1"
                                },
                                {
                                    "working_days": "2"
                                },
                                {
                                    "working_days": "3"
                                },
                                {
                                    "working_days": "4"
                                },
                                {
                                    "working_days": "5"
                                },
                                {
                                    "working_days": "8"
                                },
                                {
                                    "working_days": "9"
                                },
                                {
                                    "working_days": "10"
                                },
                                {
                                    "working_days": "11"
                                },
                                {
                                    "working_days": "12"
                                },
                                {
                                    "working_days": "13"
                                },
                                {
                                    "working_days": "14"
                                },
                                {
                                    "working_days": "18"
                                },
                                {
                                    "working_days": "20"
                                },
                                {
                                    "working_days": "21"
                                },
                                {
                                    "working_days": "22"
                                },
                                {
                                    "working_days": "23"
                                },
                                {
                                    "working_days": "24"
                                },
                                {
                                    "working_days": "25"
                                },
                                {
                                    "working_days": "26"
                                },
                                {
                                    "working_days": "27"
                                },
                                {
                                    "working_days": "28"
                                },
                                {
                                    "working_days": "29"
                                },
                                {
                                    "working_days": "30"
                                },
                                {
                                    "working_days": "31"
                                },
                                {
                                    "working_days": "1"
                                },
                                {
                                    "working_days": "2"
                                },
                                {
                                    "working_days": "3"
                                },
                                {
                                    "working_days": "5"
                                },
                                {
                                    "working_days": "7"
                                },
                                {
                                    "working_days": "8"
                                },
                                {
                                    "working_days": "9"
                                },
                                {
                                    "working_days": "10"
                                },
                                {
                                    "working_days": "11"
                                },
                                {
                                    "working_days": "12"
                                },
                                {
                                    "working_days": "13"
                                },
                                {
                                    "working_days": "14"
                                },
                                {
                                    "working_days": "15"
                                },
                                {
                                    "working_days": "17"
                                },
                                {
                                    "working_days": "18"
                                },
                                {
                                    "working_days": "21"
                                },
                                {
                                    "working_days": "22"
                                },
                                {
                                    "working_days": "23"
                                },
                                {
                                    "working_days": "24"
                                },
                                {
                                    "working_days": "26"
                                },
                                {
                                    "working_days": "27"
                                },
                                {
                                    "working_days": "28"
                                },
                                {
                                    "working_days": "29"
                                },
                                {
                                    "working_days": "30"
                                },
                                {
                                    "working_days": "1"
                                },
                                {
                                    "working_days": "2"
                                },
                                {
                                    "working_days": "3"
                                },
                                {
                                    "working_days": "4"
                                },
                                {
                                    "working_days": "5"
                                },
                                {
                                    "working_days": "7"
                                },
                                {
                                    "working_days": "8"
                                },
                                {
                                    "working_days": "9"
                                },
                                {
                                    "working_days": "10"
                                },
                                {
                                    "working_days": "12"
                                },
                                {
                                    "working_days": "13"
                                },
                                {
                                    "working_days": "14"
                                },
                                {
                                    "working_days": "15"
                                },
                                {
                                    "working_days": "16"
                                },
                                {
                                    "working_days": "17"
                                },
                                {
                                    "working_days": "18"
                                },
                                {
                                    "working_days": "19"
                                },
                                {
                                    "working_days": "20"
                                },
                                {
                                    "working_days": "22"
                                },
                                {
                                    "working_days": "23"
                                },
                                {
                                    "working_days": "24"
                                },
                                {
                                    "working_days": "25"
                                },
                                {
                                    "working_days": "26"
                                },
                                {
                                    "working_days": "27"
                                },
                                {
                                    "working_days": "28"
                                },
                                {
                                    "working_days": "29"
                                },
                                {
                                    "working_days": "1"
                                },
                                {
                                    "working_days": "2"
                                },
                                {
                                    "working_days": "4"
                                },
                                {
                                    "working_days": "5"
                                },
                                {
                                    "working_days": "6"
                                },
                                {
                                    "working_days": "7"
                                },
                                {
                                    "working_days": "8"
                                },
                                {
                                    "working_days": "9"
                                },
                                {
                                    "working_days": "10"
                                },
                                {
                                    "working_days": "11"
                                },
                                {
                                    "working_days": "13"
                                },
                                {
                                    "working_days": "14"
                                },
                                {
                                    "working_days": "15"
                                },
                                {
                                    "working_days": "18"
                                },
                                {
                                    "working_days": "19"
                                },
                                {
                                    "working_days": "20"
                                },
                                {
                                    "working_days": "21"
                                },
                                {
                                    "working_days": "22"
                                },
                                {
                                    "working_days": "23"
                                },
                                {
                                    "working_days": "24"
                                },
                                {
                                    "working_days": "25"
                                },
                                {
                                    "working_days": "26"
                                },
                                {
                                    "working_days": "27"
                                },
                                {
                                    "working_days": "28"
                                },
                                {
                                    "working_days": "29"
                                },
                                {
                                    "working_days": "30"
                                },
                                {
                                    "working_days": "1"
                                },
                                {
                                    "working_days": "2"
                                },
                                {
                                    "working_days": "3"
                                },
                                {
                                    "working_days": "4"
                                },
                                {
                                    "working_days": "5"
                                },
                                {
                                    "working_days": "6"
                                },
                                {
                                    "working_days": "7"
                                },
                                {
                                    "working_days": "8"
                                },
                                {
                                    "working_days": "9"
                                },
                                {
                                    "working_days": "10"
                                },
                                {
                                    "working_days": "11"
                                },
                                {
                                    "working_days": "12"
                                },
                                {
                                    "working_days": "13"
                                },
                                {
                                    "working_days": "14"
                                },
                                {
                                    "working_days": "15"
                                },
                                {
                                    "working_days": "16"
                                },
                                {
                                    "working_days": "17"
                                },
                                {
                                    "working_days": "18"
                                },
                                {
                                    "working_days": "19"
                                },
                                {
                                    "working_days": "21"
                                },
                                {
                                    "working_days": "22"
                                },
                                {
                                    "working_days": "23"
                                },
                                {
                                    "working_days": "24"
                                },
                                {
                                    "working_days": "25"
                                },
                                {
                                    "working_days": "26"
                                },
                                {
                                    "working_days": "27"
                                },
                                {
                                    "working_days": "28"
                                },
                                {
                                    "working_days": "29"
                                },
                                {
                                    "working_days": "30"
                                },
                                {
                                    "working_days": "31"
                                },
                                {
                                    "working_days": "1"
                                },
                                {
                                    "working_days": "2"
                                },
                                {
                                    "working_days": "4"
                                },
                                {
                                    "working_days": "6"
                                },
                                {
                                    "working_days": "7"
                                },
                                {
                                    "working_days": "8"
                                },
                                {
                                    "working_days": "9"
                                },
                                {
                                    "working_days": "10"
                                },
                                {
                                    "working_days": "11"
                                },
                                {
                                    "working_days": "12"
                                },
                                {
                                    "working_days": "13"
                                },
                                {
                                    "working_days": "14"
                                },
                                {
                                    "working_days": "15"
                                },
                                {
                                    "working_days": "16"
                                },
                                {
                                    "working_days": "17"
                                },
                                {
                                    "working_days": "19"
                                },
                                {
                                    "working_days": "20"
                                },
                                {
                                    "working_days": "21"
                                },
                                {
                                    "working_days": "22"
                                },
                                {
                                    "working_days": "23"
                                },
                                {
                                    "working_days": "24"
                                },
                                {
                                    "working_days": "26"
                                },
                                {
                                    "working_days": "27"
                                },
                                {
                                    "working_days": "28"
                                },
                                {
                                    "working_days": "29"
                                },
                                {
                                    "working_days": "30"
                                },
                                {
                                    "working_days": "31"
                                },
                                {
                                    "working_days": "1"
                                },
                                {
                                    "working_days": "2"
                                },
                                {
                                    "working_days": "3"
                                },
                                {
                                    "working_days": "4"
                                },
                                {
                                    "working_days": "5"
                                },
                                {
                                    "working_days": "6"
                                },
                                {
                                    "working_days": "7"
                                },
                                {
                                    "working_days": "8"
                                },
                                {
                                    "working_days": "9"
                                },
                                {
                                    "working_days": "10"
                                },
                                {
                                    "working_days": "11"
                                },
                                {
                                    "working_days": "12"
                                },
                                {
                                    "working_days": "13"
                                },
                                {
                                    "working_days": "14"
                                },
                                {
                                    "working_days": "15"
                                },
                                {
                                    "working_days": "16"
                                },
                                {
                                    "working_days": "17"
                                },
                                {
                                    "working_days": "18"
                                },
                                {
                                    "working_days": "19"
                                },
                                {
                                    "working_days": "20"
                                },
                                {
                                    "working_days": "21"
                                },
                                {
                                    "working_days": "22"
                                },
                                {
                                    "working_days": "23"
                                },
                                {
                                    "working_days": "24"
                                },
                                {
                                    "working_days": "25"
                                },
                                {
                                    "working_days": "26"
                                },
                                {
                                    "working_days": "27"
                                },
                                {
                                    "working_days": "28"
                                },
                                {
                                    "working_days": "29"
                                },
                                {
                                    "working_days": "30"
                                },
                                {
                                    "working_days": "1"
                                },
                                {
                                    "working_days": "2"
                                },
                                {
                                    "working_days": "3"
                                },
                                {
                                    "working_days": "4"
                                },
                                {
                                    "working_days": "5"
                                },
                                {
                                    "working_days": "6"
                                },
                                {
                                    "working_days": "7"
                                },
                                {
                                    "working_days": "8"
                                },
                                {
                                    "working_days": "9"
                                },
                                {
                                    "working_days": "10"
                                },
                                {
                                    "working_days": "11"
                                },
                                {
                                    "working_days": "12"
                                },
                                {
                                    "working_days": "13"
                                },
                                {
                                    "working_days": "14"
                                },
                                {
                                    "working_days": "15"
                                },
                                {
                                    "working_days": "16"
                                },
                                {
                                    "working_days": "17"
                                },
                                {
                                    "working_days": "18"
                                },
                                {
                                    "working_days": "19"
                                },
                                {
                                    "working_days": "20"
                                },
                                {
                                    "working_days": "21"
                                },
                                {
                                    "working_days": "22"
                                },
                                {
                                    "working_days": "23"
                                },
                                {
                                    "working_days": "24"
                                },
                                {
                                    "working_days": "25"
                                },
                                {
                                    "working_days": "26"
                                },
                                {
                                    "working_days": "27"
                                },
                                {
                                    "working_days": "28"
                                },
                                {
                                    "working_days": "29"
                                },
                                {
                                    "working_days": "30"
                                },
                                {
                                    "working_days": "31"
                                },
                                {
                                    "working_days": "1"
                                },
                                {
                                    "working_days": "2"
                                },
                                {
                                    "working_days": "3"
                                },
                                {
                                    "working_days": "4"
                                },
                                {
                                    "working_days": "5"
                                },
                                {
                                    "working_days": "6"
                                },
                                {
                                    "working_days": "7"
                                },
                                {
                                    "working_days": "8"
                                },
                                {
                                    "working_days": "9"
                                },
                                {
                                    "working_days": "10"
                                },
                                {
                                    "working_days": "11"
                                },
                                {
                                    "working_days": "12"
                                },
                                {
                                    "working_days": "13"
                                },
                                {
                                    "working_days": "14"
                                },
                                {
                                    "working_days": "15"
                                },
                                {
                                    "working_days": "16"
                                },
                                {
                                    "working_days": "17"
                                },
                                {
                                    "working_days": "18"
                                },
                                {
                                    "working_days": "19"
                                },
                                {
                                    "working_days": "20"
                                },
                                {
                                    "working_days": "21"
                                },
                                {
                                    "working_days": "22"
                                },
                                {
                                    "working_days": "23"
                                },
                                {
                                    "working_days": "24"
                                },
                                {
                                    "working_days": "25"
                                },
                                {
                                    "working_days": "26"
                                },
                                {
                                    "working_days": "27"
                                },
                                {
                                    "working_days": "28"
                                },
                                {
                                    "working_days": "29"
                                },
                                {
                                    "working_days": "30"
                                },
                                {
                                    "working_days": "1"
                                },
                                {
                                    "working_days": "2"
                                },
                                {
                                    "working_days": "3"
                                },
                                {
                                    "working_days": "4"
                                },
                                {
                                    "working_days": "5"
                                },
                                {
                                    "working_days": "6"
                                },
                                {
                                    "working_days": "7"
                                },
                                {
                                    "working_days": "8"
                                },
                                {
                                    "working_days": "9"
                                },
                                {
                                    "working_days": "10"
                                },
                                {
                                    "working_days": "11"
                                },
                                {
                                    "working_days": "12"
                                },
                                {
                                    "working_days": "13"
                                },
                                {
                                    "working_days": "14"
                                },
                                {
                                    "working_days": "15"
                                },
                                {
                                    "working_days": "16"
                                },
                                {
                                    "working_days": "17"
                                },
                                {
                                    "working_days": "18"
                                },
                                {
                                    "working_days": "19"
                                },
                                {
                                    "working_days": "20"
                                },
                                {
                                    "working_days": "21"
                                },
                                {
                                    "working_days": "22"
                                },
                                {
                                    "working_days": "23"
                                },
                                {
                                    "working_days": "24"
                                },
                                {
                                    "working_days": "25"
                                },
                                {
                                    "working_days": "26"
                                },
                                {
                                    "working_days": "27"
                                },
                                {
                                    "working_days": "28"
                                },
                                {
                                    "working_days": "29"
                                },
                                {
                                    "working_days": "30"
                                },
                                {
                                    "working_days": "31"
                                }
                            ]
                        },
                        "text/html": [
                            "<table>",
                            "<tr><th>working_days</th></tr>",
                            "<tr><td>1</td></tr>",
                            "<tr><td>2</td></tr>",
                            "<tr><td>3</td></tr>",
                            "<tr><td>4</td></tr>",
                            "<tr><td>5</td></tr>",
                            "<tr><td>6</td></tr>",
                            "<tr><td>7</td></tr>",
                            "<tr><td>8</td></tr>",
                            "<tr><td>9</td></tr>",
                            "<tr><td>10</td></tr>",
                            "<tr><td>12</td></tr>",
                            "<tr><td>14</td></tr>",
                            "<tr><td>15</td></tr>",
                            "<tr><td>16</td></tr>",
                            "<tr><td>17</td></tr>",
                            "<tr><td>19</td></tr>",
                            "<tr><td>20</td></tr>",
                            "<tr><td>21</td></tr>",
                            "<tr><td>23</td></tr>",
                            "<tr><td>24</td></tr>",
                            "<tr><td>25</td></tr>",
                            "<tr><td>26</td></tr>",
                            "<tr><td>27</td></tr>",
                            "<tr><td>28</td></tr>",
                            "<tr><td>29</td></tr>",
                            "<tr><td>30</td></tr>",
                            "<tr><td>1</td></tr>",
                            "<tr><td>2</td></tr>",
                            "<tr><td>3</td></tr>",
                            "<tr><td>4</td></tr>",
                            "<tr><td>5</td></tr>",
                            "<tr><td>6</td></tr>",
                            "<tr><td>8</td></tr>",
                            "<tr><td>10</td></tr>",
                            "<tr><td>11</td></tr>",
                            "<tr><td>12</td></tr>",
                            "<tr><td>13</td></tr>",
                            "<tr><td>14</td></tr>",
                            "<tr><td>15</td></tr>",
                            "<tr><td>16</td></tr>",
                            "<tr><td>17</td></tr>",
                            "<tr><td>20</td></tr>",
                            "<tr><td>21</td></tr>",
                            "<tr><td>23</td></tr>",
                            "<tr><td>24</td></tr>",
                            "<tr><td>25</td></tr>",
                            "<tr><td>26</td></tr>",
                            "<tr><td>27</td></tr>",
                            "<tr><td>28</td></tr>",
                            "<tr><td>1</td></tr>",
                            "<tr><td>2</td></tr>",
                            "<tr><td>3</td></tr>",
                            "<tr><td>5</td></tr>",
                            "<tr><td>6</td></tr>",
                            "<tr><td>8</td></tr>",
                            "<tr><td>9</td></tr>",
                            "<tr><td>10</td></tr>",
                            "<tr><td>11</td></tr>",
                            "<tr><td>12</td></tr>",
                            "<tr><td>13</td></tr>",
                            "<tr><td>15</td></tr>",
                            "<tr><td>16</td></tr>",
                            "<tr><td>17</td></tr>",
                            "<tr><td>18</td></tr>",
                            "<tr><td>19</td></tr>",
                            "<tr><td>20</td></tr>",
                            "<tr><td>21</td></tr>",
                            "<tr><td>22</td></tr>",
                            "<tr><td>23</td></tr>",
                            "<tr><td>24</td></tr>",
                            "<tr><td>25</td></tr>",
                            "<tr><td>26</td></tr>",
                            "<tr><td>27</td></tr>",
                            "<tr><td>28</td></tr>",
                            "<tr><td>29</td></tr>",
                            "<tr><td>31</td></tr>",
                            "<tr><td>1</td></tr>",
                            "<tr><td>3</td></tr>",
                            "<tr><td>4</td></tr>",
                            "<tr><td>5</td></tr>",
                            "<tr><td>6</td></tr>",
                            "<tr><td>7</td></tr>",
                            "<tr><td>8</td></tr>",
                            "<tr><td>9</td></tr>",
                            "<tr><td>10</td></tr>",
                            "<tr><td>11</td></tr>",
                            "<tr><td>13</td></tr>",
                            "<tr><td>14</td></tr>",
                            "<tr><td>15</td></tr>",
                            "<tr><td>16</td></tr>",
                            "<tr><td>17</td></tr>",
                            "<tr><td>18</td></tr>",
                            "<tr><td>19</td></tr>",
                            "<tr><td>20</td></tr>",
                            "<tr><td>21</td></tr>",
                            "<tr><td>22</td></tr>",
                            "<tr><td>23</td></tr>",
                            "<tr><td>26</td></tr>",
                            "<tr><td>28</td></tr>",
                            "<tr><td>29</td></tr>",
                            "<tr><td>30</td></tr>",
                            "<tr><td>1</td></tr>",
                            "<tr><td>2</td></tr>",
                            "<tr><td>3</td></tr>",
                            "<tr><td>4</td></tr>",
                            "<tr><td>6</td></tr>",
                            "<tr><td>7</td></tr>",
                            "<tr><td>8</td></tr>",
                            "<tr><td>10</td></tr>",
                            "<tr><td>11</td></tr>",
                            "<tr><td>12</td></tr>",
                            "<tr><td>14</td></tr>",
                            "<tr><td>15</td></tr>",
                            "<tr><td>16</td></tr>",
                            "<tr><td>17</td></tr>",
                            "<tr><td>18</td></tr>",
                            "<tr><td>21</td></tr>",
                            "<tr><td>22</td></tr>",
                            "<tr><td>23</td></tr>",
                            "<tr><td>24</td></tr>",
                            "<tr><td>27</td></tr>",
                            "<tr><td>30</td></tr>",
                            "<tr><td>31</td></tr>",
                            "<tr><td>1</td></tr>",
                            "<tr><td>2</td></tr>",
                            "<tr><td>3</td></tr>",
                            "<tr><td>5</td></tr>",
                            "<tr><td>7</td></tr>",
                            "<tr><td>9</td></tr>",
                            "<tr><td>10</td></tr>",
                            "<tr><td>11</td></tr>",
                            "<tr><td>13</td></tr>",
                            "<tr><td>14</td></tr>",
                            "<tr><td>15</td></tr>",
                            "<tr><td>16</td></tr>",
                            "<tr><td>17</td></tr>",
                            "<tr><td>18</td></tr>",
                            "<tr><td>19</td></tr>",
                            "<tr><td>20</td></tr>",
                            "<tr><td>21</td></tr>",
                            "<tr><td>23</td></tr>",
                            "<tr><td>24</td></tr>",
                            "<tr><td>25</td></tr>",
                            "<tr><td>27</td></tr>",
                            "<tr><td>29</td></tr>",
                            "<tr><td>30</td></tr>",
                            "<tr><td>1</td></tr>",
                            "<tr><td>2</td></tr>",
                            "<tr><td>4</td></tr>",
                            "<tr><td>5</td></tr>",
                            "<tr><td>6</td></tr>",
                            "<tr><td>7</td></tr>",
                            "<tr><td>8</td></tr>",
                            "<tr><td>9</td></tr>",
                            "<tr><td>10</td></tr>",
                            "<tr><td>11</td></tr>",
                            "<tr><td>12</td></tr>",
                            "<tr><td>13</td></tr>",
                            "<tr><td>14</td></tr>",
                            "<tr><td>16</td></tr>",
                            "<tr><td>17</td></tr>",
                            "<tr><td>18</td></tr>",
                            "<tr><td>19</td></tr>",
                            "<tr><td>20</td></tr>",
                            "<tr><td>21</td></tr>",
                            "<tr><td>24</td></tr>",
                            "<tr><td>26</td></tr>",
                            "<tr><td>29</td></tr>",
                            "<tr><td>31</td></tr>",
                            "<tr><td>1</td></tr>",
                            "<tr><td>2</td></tr>",
                            "<tr><td>4</td></tr>",
                            "<tr><td>5</td></tr>",
                            "<tr><td>6</td></tr>",
                            "<tr><td>7</td></tr>",
                            "<tr><td>8</td></tr>",
                            "<tr><td>9</td></tr>",
                            "<tr><td>11</td></tr>",
                            "<tr><td>12</td></tr>",
                            "<tr><td>13</td></tr>",
                            "<tr><td>14</td></tr>",
                            "<tr><td>15</td></tr>",
                            "<tr><td>16</td></tr>",
                            "<tr><td>17</td></tr>",
                            "<tr><td>18</td></tr>",
                            "<tr><td>19</td></tr>",
                            "<tr><td>20</td></tr>",
                            "<tr><td>21</td></tr>",
                            "<tr><td>22</td></tr>",
                            "<tr><td>23</td></tr>",
                            "<tr><td>25</td></tr>",
                            "<tr><td>26</td></tr>",
                            "<tr><td>27</td></tr>",
                            "<tr><td>28</td></tr>",
                            "<tr><td>29</td></tr>",
                            "<tr><td>31</td></tr>",
                            "<tr><td>1</td></tr>",
                            "<tr><td>2</td></tr>",
                            "<tr><td>3</td></tr>",
                            "<tr><td>4</td></tr>",
                            "<tr><td>5</td></tr>",
                            "<tr><td>6</td></tr>",
                            "<tr><td>7</td></tr>",
                            "<tr><td>8</td></tr>",
                            "<tr><td>9</td></tr>",
                            "<tr><td>10</td></tr>",
                            "<tr><td>11</td></tr>",
                            "<tr><td>12</td></tr>",
                            "<tr><td>13</td></tr>",
                            "<tr><td>14</td></tr>",
                            "<tr><td>15</td></tr>",
                            "<tr><td>16</td></tr>",
                            "<tr><td>17</td></tr>",
                            "<tr><td>18</td></tr>",
                            "<tr><td>19</td></tr>",
                            "<tr><td>20</td></tr>",
                            "<tr><td>21</td></tr>",
                            "<tr><td>22</td></tr>",
                            "<tr><td>23</td></tr>",
                            "<tr><td>24</td></tr>",
                            "<tr><td>25</td></tr>",
                            "<tr><td>26</td></tr>",
                            "<tr><td>27</td></tr>",
                            "<tr><td>28</td></tr>",
                            "<tr><td>29</td></tr>",
                            "<tr><td>30</td></tr>",
                            "<tr><td>1</td></tr>",
                            "<tr><td>2</td></tr>",
                            "<tr><td>3</td></tr>",
                            "<tr><td>4</td></tr>",
                            "<tr><td>5</td></tr>",
                            "<tr><td>6</td></tr>",
                            "<tr><td>7</td></tr>",
                            "<tr><td>8</td></tr>",
                            "<tr><td>9</td></tr>",
                            "<tr><td>10</td></tr>",
                            "<tr><td>11</td></tr>",
                            "<tr><td>12</td></tr>",
                            "<tr><td>13</td></tr>",
                            "<tr><td>14</td></tr>",
                            "<tr><td>15</td></tr>",
                            "<tr><td>16</td></tr>",
                            "<tr><td>17</td></tr>",
                            "<tr><td>18</td></tr>",
                            "<tr><td>19</td></tr>",
                            "<tr><td>20</td></tr>",
                            "<tr><td>21</td></tr>",
                            "<tr><td>22</td></tr>",
                            "<tr><td>23</td></tr>",
                            "<tr><td>24</td></tr>",
                            "<tr><td>25</td></tr>",
                            "<tr><td>26</td></tr>",
                            "<tr><td>27</td></tr>",
                            "<tr><td>29</td></tr>",
                            "<tr><td>30</td></tr>",
                            "<tr><td>31</td></tr>",
                            "<tr><td>1</td></tr>",
                            "<tr><td>2</td></tr>",
                            "<tr><td>3</td></tr>",
                            "<tr><td>4</td></tr>",
                            "<tr><td>5</td></tr>",
                            "<tr><td>6</td></tr>",
                            "<tr><td>7</td></tr>",
                            "<tr><td>8</td></tr>",
                            "<tr><td>9</td></tr>",
                            "<tr><td>10</td></tr>",
                            "<tr><td>11</td></tr>",
                            "<tr><td>12</td></tr>",
                            "<tr><td>13</td></tr>",
                            "<tr><td>14</td></tr>",
                            "<tr><td>15</td></tr>",
                            "<tr><td>17</td></tr>",
                            "<tr><td>18</td></tr>",
                            "<tr><td>19</td></tr>",
                            "<tr><td>20</td></tr>",
                            "<tr><td>21</td></tr>",
                            "<tr><td>22</td></tr>",
                            "<tr><td>23</td></tr>",
                            "<tr><td>24</td></tr>",
                            "<tr><td>25</td></tr>",
                            "<tr><td>26</td></tr>",
                            "<tr><td>27</td></tr>",
                            "<tr><td>28</td></tr>",
                            "<tr><td>29</td></tr>",
                            "<tr><td>30</td></tr>",
                            "<tr><td>1</td></tr>",
                            "<tr><td>2</td></tr>",
                            "<tr><td>3</td></tr>",
                            "<tr><td>4</td></tr>",
                            "<tr><td>5</td></tr>",
                            "<tr><td>6</td></tr>",
                            "<tr><td>7</td></tr>",
                            "<tr><td>8</td></tr>",
                            "<tr><td>9</td></tr>",
                            "<tr><td>10</td></tr>",
                            "<tr><td>11</td></tr>",
                            "<tr><td>12</td></tr>",
                            "<tr><td>13</td></tr>",
                            "<tr><td>14</td></tr>",
                            "<tr><td>15</td></tr>",
                            "<tr><td>16</td></tr>",
                            "<tr><td>17</td></tr>",
                            "<tr><td>18</td></tr>",
                            "<tr><td>19</td></tr>",
                            "<tr><td>20</td></tr>",
                            "<tr><td>21</td></tr>",
                            "<tr><td>22</td></tr>",
                            "<tr><td>23</td></tr>",
                            "<tr><td>24</td></tr>",
                            "<tr><td>25</td></tr>",
                            "<tr><td>26</td></tr>",
                            "<tr><td>27</td></tr>",
                            "<tr><td>28</td></tr>",
                            "<tr><td>29</td></tr>",
                            "<tr><td>30</td></tr>",
                            "<tr><td>31</td></tr>",
                            "<tr><td>1</td></tr>",
                            "<tr><td>2</td></tr>",
                            "<tr><td>3</td></tr>",
                            "<tr><td>4</td></tr>",
                            "<tr><td>5</td></tr>",
                            "<tr><td>6</td></tr>",
                            "<tr><td>7</td></tr>",
                            "<tr><td>8</td></tr>",
                            "<tr><td>9</td></tr>",
                            "<tr><td>10</td></tr>",
                            "<tr><td>11</td></tr>",
                            "<tr><td>12</td></tr>",
                            "<tr><td>13</td></tr>",
                            "<tr><td>14</td></tr>",
                            "<tr><td>15</td></tr>",
                            "<tr><td>16</td></tr>",
                            "<tr><td>18</td></tr>",
                            "<tr><td>19</td></tr>",
                            "<tr><td>20</td></tr>",
                            "<tr><td>21</td></tr>",
                            "<tr><td>22</td></tr>",
                            "<tr><td>23</td></tr>",
                            "<tr><td>24</td></tr>",
                            "<tr><td>25</td></tr>",
                            "<tr><td>26</td></tr>",
                            "<tr><td>28</td></tr>",
                            "<tr><td>29</td></tr>",
                            "<tr><td>30</td></tr>",
                            "<tr><td>31</td></tr>",
                            "<tr><td>1</td></tr>",
                            "<tr><td>3</td></tr>",
                            "<tr><td>4</td></tr>",
                            "<tr><td>5</td></tr>",
                            "<tr><td>6</td></tr>",
                            "<tr><td>8</td></tr>",
                            "<tr><td>9</td></tr>",
                            "<tr><td>10</td></tr>",
                            "<tr><td>11</td></tr>",
                            "<tr><td>12</td></tr>",
                            "<tr><td>13</td></tr>",
                            "<tr><td>16</td></tr>",
                            "<tr><td>17</td></tr>",
                            "<tr><td>18</td></tr>",
                            "<tr><td>19</td></tr>",
                            "<tr><td>20</td></tr>",
                            "<tr><td>21</td></tr>",
                            "<tr><td>22</td></tr>",
                            "<tr><td>23</td></tr>",
                            "<tr><td>24</td></tr>",
                            "<tr><td>25</td></tr>",
                            "<tr><td>28</td></tr>",
                            "<tr><td>1</td></tr>",
                            "<tr><td>2</td></tr>",
                            "<tr><td>3</td></tr>",
                            "<tr><td>4</td></tr>",
                            "<tr><td>5</td></tr>",
                            "<tr><td>8</td></tr>",
                            "<tr><td>9</td></tr>",
                            "<tr><td>10</td></tr>",
                            "<tr><td>11</td></tr>",
                            "<tr><td>12</td></tr>",
                            "<tr><td>13</td></tr>",
                            "<tr><td>14</td></tr>",
                            "<tr><td>18</td></tr>",
                            "<tr><td>20</td></tr>",
                            "<tr><td>21</td></tr>",
                            "<tr><td>22</td></tr>",
                            "<tr><td>23</td></tr>",
                            "<tr><td>24</td></tr>",
                            "<tr><td>25</td></tr>",
                            "<tr><td>26</td></tr>",
                            "<tr><td>27</td></tr>",
                            "<tr><td>28</td></tr>",
                            "<tr><td>29</td></tr>",
                            "<tr><td>30</td></tr>",
                            "<tr><td>31</td></tr>",
                            "<tr><td>1</td></tr>",
                            "<tr><td>2</td></tr>",
                            "<tr><td>3</td></tr>",
                            "<tr><td>5</td></tr>",
                            "<tr><td>7</td></tr>",
                            "<tr><td>8</td></tr>",
                            "<tr><td>9</td></tr>",
                            "<tr><td>10</td></tr>",
                            "<tr><td>11</td></tr>",
                            "<tr><td>12</td></tr>",
                            "<tr><td>13</td></tr>",
                            "<tr><td>14</td></tr>",
                            "<tr><td>15</td></tr>",
                            "<tr><td>17</td></tr>",
                            "<tr><td>18</td></tr>",
                            "<tr><td>21</td></tr>",
                            "<tr><td>22</td></tr>",
                            "<tr><td>23</td></tr>",
                            "<tr><td>24</td></tr>",
                            "<tr><td>26</td></tr>",
                            "<tr><td>27</td></tr>",
                            "<tr><td>28</td></tr>",
                            "<tr><td>29</td></tr>",
                            "<tr><td>30</td></tr>",
                            "<tr><td>1</td></tr>",
                            "<tr><td>2</td></tr>",
                            "<tr><td>3</td></tr>",
                            "<tr><td>4</td></tr>",
                            "<tr><td>5</td></tr>",
                            "<tr><td>7</td></tr>",
                            "<tr><td>8</td></tr>",
                            "<tr><td>9</td></tr>",
                            "<tr><td>10</td></tr>",
                            "<tr><td>12</td></tr>",
                            "<tr><td>13</td></tr>",
                            "<tr><td>14</td></tr>",
                            "<tr><td>15</td></tr>",
                            "<tr><td>16</td></tr>",
                            "<tr><td>17</td></tr>",
                            "<tr><td>18</td></tr>",
                            "<tr><td>19</td></tr>",
                            "<tr><td>20</td></tr>",
                            "<tr><td>22</td></tr>",
                            "<tr><td>23</td></tr>",
                            "<tr><td>24</td></tr>",
                            "<tr><td>25</td></tr>",
                            "<tr><td>26</td></tr>",
                            "<tr><td>27</td></tr>",
                            "<tr><td>28</td></tr>",
                            "<tr><td>29</td></tr>",
                            "<tr><td>1</td></tr>",
                            "<tr><td>2</td></tr>",
                            "<tr><td>4</td></tr>",
                            "<tr><td>5</td></tr>",
                            "<tr><td>6</td></tr>",
                            "<tr><td>7</td></tr>",
                            "<tr><td>8</td></tr>",
                            "<tr><td>9</td></tr>",
                            "<tr><td>10</td></tr>",
                            "<tr><td>11</td></tr>",
                            "<tr><td>13</td></tr>",
                            "<tr><td>14</td></tr>",
                            "<tr><td>15</td></tr>",
                            "<tr><td>18</td></tr>",
                            "<tr><td>19</td></tr>",
                            "<tr><td>20</td></tr>",
                            "<tr><td>21</td></tr>",
                            "<tr><td>22</td></tr>",
                            "<tr><td>23</td></tr>",
                            "<tr><td>24</td></tr>",
                            "<tr><td>25</td></tr>",
                            "<tr><td>26</td></tr>",
                            "<tr><td>27</td></tr>",
                            "<tr><td>28</td></tr>",
                            "<tr><td>29</td></tr>",
                            "<tr><td>30</td></tr>",
                            "<tr><td>1</td></tr>",
                            "<tr><td>2</td></tr>",
                            "<tr><td>3</td></tr>",
                            "<tr><td>4</td></tr>",
                            "<tr><td>5</td></tr>",
                            "<tr><td>6</td></tr>",
                            "<tr><td>7</td></tr>",
                            "<tr><td>8</td></tr>",
                            "<tr><td>9</td></tr>",
                            "<tr><td>10</td></tr>",
                            "<tr><td>11</td></tr>",
                            "<tr><td>12</td></tr>",
                            "<tr><td>13</td></tr>",
                            "<tr><td>14</td></tr>",
                            "<tr><td>15</td></tr>",
                            "<tr><td>16</td></tr>",
                            "<tr><td>17</td></tr>",
                            "<tr><td>18</td></tr>",
                            "<tr><td>19</td></tr>",
                            "<tr><td>21</td></tr>",
                            "<tr><td>22</td></tr>",
                            "<tr><td>23</td></tr>",
                            "<tr><td>24</td></tr>",
                            "<tr><td>25</td></tr>",
                            "<tr><td>26</td></tr>",
                            "<tr><td>27</td></tr>",
                            "<tr><td>28</td></tr>",
                            "<tr><td>29</td></tr>",
                            "<tr><td>30</td></tr>",
                            "<tr><td>31</td></tr>",
                            "<tr><td>1</td></tr>",
                            "<tr><td>2</td></tr>",
                            "<tr><td>4</td></tr>",
                            "<tr><td>6</td></tr>",
                            "<tr><td>7</td></tr>",
                            "<tr><td>8</td></tr>",
                            "<tr><td>9</td></tr>",
                            "<tr><td>10</td></tr>",
                            "<tr><td>11</td></tr>",
                            "<tr><td>12</td></tr>",
                            "<tr><td>13</td></tr>",
                            "<tr><td>14</td></tr>",
                            "<tr><td>15</td></tr>",
                            "<tr><td>16</td></tr>",
                            "<tr><td>17</td></tr>",
                            "<tr><td>19</td></tr>",
                            "<tr><td>20</td></tr>",
                            "<tr><td>21</td></tr>",
                            "<tr><td>22</td></tr>",
                            "<tr><td>23</td></tr>",
                            "<tr><td>24</td></tr>",
                            "<tr><td>26</td></tr>",
                            "<tr><td>27</td></tr>",
                            "<tr><td>28</td></tr>",
                            "<tr><td>29</td></tr>",
                            "<tr><td>30</td></tr>",
                            "<tr><td>31</td></tr>",
                            "<tr><td>1</td></tr>",
                            "<tr><td>2</td></tr>",
                            "<tr><td>3</td></tr>",
                            "<tr><td>4</td></tr>",
                            "<tr><td>5</td></tr>",
                            "<tr><td>6</td></tr>",
                            "<tr><td>7</td></tr>",
                            "<tr><td>8</td></tr>",
                            "<tr><td>9</td></tr>",
                            "<tr><td>10</td></tr>",
                            "<tr><td>11</td></tr>",
                            "<tr><td>12</td></tr>",
                            "<tr><td>13</td></tr>",
                            "<tr><td>14</td></tr>",
                            "<tr><td>15</td></tr>",
                            "<tr><td>16</td></tr>",
                            "<tr><td>17</td></tr>",
                            "<tr><td>18</td></tr>",
                            "<tr><td>19</td></tr>",
                            "<tr><td>20</td></tr>",
                            "<tr><td>21</td></tr>",
                            "<tr><td>22</td></tr>",
                            "<tr><td>23</td></tr>",
                            "<tr><td>24</td></tr>",
                            "<tr><td>25</td></tr>",
                            "<tr><td>26</td></tr>",
                            "<tr><td>27</td></tr>",
                            "<tr><td>28</td></tr>",
                            "<tr><td>29</td></tr>",
                            "<tr><td>30</td></tr>",
                            "<tr><td>1</td></tr>",
                            "<tr><td>2</td></tr>",
                            "<tr><td>3</td></tr>",
                            "<tr><td>4</td></tr>",
                            "<tr><td>5</td></tr>",
                            "<tr><td>6</td></tr>",
                            "<tr><td>7</td></tr>",
                            "<tr><td>8</td></tr>",
                            "<tr><td>9</td></tr>",
                            "<tr><td>10</td></tr>",
                            "<tr><td>11</td></tr>",
                            "<tr><td>12</td></tr>",
                            "<tr><td>13</td></tr>",
                            "<tr><td>14</td></tr>",
                            "<tr><td>15</td></tr>",
                            "<tr><td>16</td></tr>",
                            "<tr><td>17</td></tr>",
                            "<tr><td>18</td></tr>",
                            "<tr><td>19</td></tr>",
                            "<tr><td>20</td></tr>",
                            "<tr><td>21</td></tr>",
                            "<tr><td>22</td></tr>",
                            "<tr><td>23</td></tr>",
                            "<tr><td>24</td></tr>",
                            "<tr><td>25</td></tr>",
                            "<tr><td>26</td></tr>",
                            "<tr><td>27</td></tr>",
                            "<tr><td>28</td></tr>",
                            "<tr><td>29</td></tr>",
                            "<tr><td>30</td></tr>",
                            "<tr><td>31</td></tr>",
                            "<tr><td>1</td></tr>",
                            "<tr><td>2</td></tr>",
                            "<tr><td>3</td></tr>",
                            "<tr><td>4</td></tr>",
                            "<tr><td>5</td></tr>",
                            "<tr><td>6</td></tr>",
                            "<tr><td>7</td></tr>",
                            "<tr><td>8</td></tr>",
                            "<tr><td>9</td></tr>",
                            "<tr><td>10</td></tr>",
                            "<tr><td>11</td></tr>",
                            "<tr><td>12</td></tr>",
                            "<tr><td>13</td></tr>",
                            "<tr><td>14</td></tr>",
                            "<tr><td>15</td></tr>",
                            "<tr><td>16</td></tr>",
                            "<tr><td>17</td></tr>",
                            "<tr><td>18</td></tr>",
                            "<tr><td>19</td></tr>",
                            "<tr><td>20</td></tr>",
                            "<tr><td>21</td></tr>",
                            "<tr><td>22</td></tr>",
                            "<tr><td>23</td></tr>",
                            "<tr><td>24</td></tr>",
                            "<tr><td>25</td></tr>",
                            "<tr><td>26</td></tr>",
                            "<tr><td>27</td></tr>",
                            "<tr><td>28</td></tr>",
                            "<tr><td>29</td></tr>",
                            "<tr><td>30</td></tr>",
                            "<tr><td>1</td></tr>",
                            "<tr><td>2</td></tr>",
                            "<tr><td>3</td></tr>",
                            "<tr><td>4</td></tr>",
                            "<tr><td>5</td></tr>",
                            "<tr><td>6</td></tr>",
                            "<tr><td>7</td></tr>",
                            "<tr><td>8</td></tr>",
                            "<tr><td>9</td></tr>",
                            "<tr><td>10</td></tr>",
                            "<tr><td>11</td></tr>",
                            "<tr><td>12</td></tr>",
                            "<tr><td>13</td></tr>",
                            "<tr><td>14</td></tr>",
                            "<tr><td>15</td></tr>",
                            "<tr><td>16</td></tr>",
                            "<tr><td>17</td></tr>",
                            "<tr><td>18</td></tr>",
                            "<tr><td>19</td></tr>",
                            "<tr><td>20</td></tr>",
                            "<tr><td>21</td></tr>",
                            "<tr><td>22</td></tr>",
                            "<tr><td>23</td></tr>",
                            "<tr><td>24</td></tr>",
                            "<tr><td>25</td></tr>",
                            "<tr><td>26</td></tr>",
                            "<tr><td>27</td></tr>",
                            "<tr><td>28</td></tr>",
                            "<tr><td>29</td></tr>",
                            "<tr><td>30</td></tr>",
                            "<tr><td>31</td></tr>",
                            "</table>"
                        ]
                    }
                }
            ],
            "execution_count": 4
        },
        {
            "cell_type": "markdown",
            "source": [
                "## Explore _missing values_:"
            ],
            "metadata": {
                "language": "sql",
                "azdata_cell_guid": "7083931b-ea15-4e16-b8a1-d5a08c7bc836"
            },
            "attachments": {}
        },
        {
            "cell_type": "code",
            "source": [
                "SELECT * FROM retail_sales\n",
                "WHERE \n",
                "    transaction_id IS NULL\n",
                "    OR\n",
                "    sale_date IS NULL\n",
                "    OR\n",
                "\tage IS NULL\n",
                "    OR \n",
                "    sale_time IS NULL\n",
                "    OR\n",
                "    gender IS NULL\n",
                "    OR\n",
                "    category IS NULL\n",
                "    OR\n",
                "    quantity IS NULL\n",
                "    OR\n",
                "    cogs IS NULL\n",
                "    OR\n",
                "    total_sale IS NULL;"
            ],
            "metadata": {
                "language": "sql",
                "azdata_cell_guid": "815c97d0-7d1c-47f7-b515-4e70a46f9864"
            },
            "outputs": [
                {
                    "output_type": "display_data",
                    "data": {
                        "text/html": "(0 row(s) affected)"
                    },
                    "metadata": {}
                },
                {
                    "output_type": "display_data",
                    "data": {
                        "text/html": "Total execution time: 00:00:00.003"
                    },
                    "metadata": {}
                },
                {
                    "output_type": "execute_result",
                    "metadata": {},
                    "execution_count": 5,
                    "data": {
                        "application/vnd.dataresource+json": {
                            "schema": {
                                "fields": [
                                    {
                                        "name": "transaction_id"
                                    },
                                    {
                                        "name": "sale_date"
                                    },
                                    {
                                        "name": "sale_time"
                                    },
                                    {
                                        "name": "customer_id"
                                    },
                                    {
                                        "name": "gender"
                                    },
                                    {
                                        "name": "age"
                                    },
                                    {
                                        "name": "category"
                                    },
                                    {
                                        "name": "quantity"
                                    },
                                    {
                                        "name": "price_per_unit"
                                    },
                                    {
                                        "name": "cogs"
                                    },
                                    {
                                        "name": "total_sale"
                                    }
                                ]
                            },
                            "data": []
                        },
                        "text/html": [
                            "<table>",
                            "<tr><th>transaction_id</th><th>sale_date</th><th>sale_time</th><th>customer_id</th><th>gender</th><th>age</th><th>category</th><th>quantity</th><th>price_per_unit</th><th>cogs</th><th>total_sale</th></tr>",
                            "</table>"
                        ]
                    }
                }
            ],
            "execution_count": 5
        },
        {
            "cell_type": "markdown",
            "source": [
                "## Handle _missing values_ by averaging:"
            ],
            "metadata": {
                "language": "",
                "azdata_cell_guid": "d97f523e-3778-4897-8b87-9fa2d60df582"
            },
            "attachments": {}
        },
        {
            "cell_type": "code",
            "source": [
                "UPDATE \n",
                "    retail_sales\n",
                "SET\n",
                "    age = (SELECT AVG(age) FROM retail_sales WHERE age IS NOT NULL)\n",
                "WHERE\n",
                "    age is NULL;"
            ],
            "metadata": {
                "language": "sql",
                "azdata_cell_guid": "48df6f18-7761-458a-88a7-6d2d15299a8e"
            },
            "outputs": [
                {
                    "output_type": "display_data",
                    "data": {
                        "text/html": "UPDATE 0"
                    },
                    "metadata": {}
                },
                {
                    "output_type": "display_data",
                    "data": {
                        "text/html": "Total execution time: 00:00:00.047"
                    },
                    "metadata": {}
                }
            ],
            "execution_count": 6
        },
        {
            "cell_type": "markdown",
            "source": [
                "## Delete the remaining records with missing values:"
            ],
            "metadata": {
                "language": "sql",
                "azdata_cell_guid": "45e5b3df-a46a-441f-9230-4aa6b6bf4267"
            },
            "attachments": {}
        },
        {
            "cell_type": "code",
            "source": [
                "DELETE \n",
                "    FROM retail_sales\n",
                "WHERE\n",
                "    quantity IS NULL;"
            ],
            "metadata": {
                "language": "sql",
                "azdata_cell_guid": "ea274828-6484-498e-b301-b9a87211bfda"
            },
            "outputs": [
                {
                    "output_type": "display_data",
                    "data": {
                        "text/html": "DELETE 0"
                    },
                    "metadata": {}
                },
                {
                    "output_type": "display_data",
                    "data": {
                        "text/html": "Total execution time: 00:00:00.001"
                    },
                    "metadata": {}
                }
            ],
            "execution_count": 7
        },
        {
            "cell_type": "markdown",
            "source": [
                "## Business Problems:\n",
                "1. Which product category generate the highesh total sales?\n",
                "2. What are the peak sales times during the day?\n",
                "3. Which age groups contribute the most to overall sales?\n",
                "4. How do sales differ between male and female customers?\n",
                "5. Which customers (by customer_id) are the most valuable in terms of total purchases?\n",
                "6. What is the profit margin by category (total_sale - cogs)?\n",
                "7. What is the trend in sales over time (daily, weekly or monthly)?\n",
                "8. Which product categories have the highest number of items sold?\n",
                "9. Which days of the week generate the highest sales and profits?\n",
                "10. What is the average price per unit for each category, and how does it impact sales?"
            ],
            "metadata": {
                "language": "sql",
                "azdata_cell_guid": "00cb5a48-3b11-45c7-80c9-0dc962ff9d29"
            },
            "attachments": {}
        },
        {
            "cell_type": "markdown",
            "source": [
                "## 1. Which product category generate the highesh total sales?"
            ],
            "metadata": {
                "language": "sql",
                "azdata_cell_guid": "6735f95e-f12f-4de1-a179-4766bb5bc6fb"
            },
            "attachments": {}
        },
        {
            "cell_type": "code",
            "source": [
                "SELECT \n",
                "    category, \n",
                "    SUM(total_sale) Total_Sales\n",
                "FROM\n",
                "    retail_sales\n",
                "GROUP BY\n",
                "    category;"
            ],
            "metadata": {
                "language": "sql",
                "azdata_cell_guid": "1de2ded6-abc1-4c0c-9ecf-4699d5f5c9ed"
            },
            "outputs": [
                {
                    "output_type": "display_data",
                    "data": {
                        "text/html": "(3 row(s) affected)"
                    },
                    "metadata": {}
                },
                {
                    "output_type": "display_data",
                    "data": {
                        "text/html": "Total execution time: 00:00:00.002"
                    },
                    "metadata": {}
                },
                {
                    "output_type": "execute_result",
                    "metadata": {
                        "azdata_chartOptions": {
                            "type": "bar",
                            "dataDirection": "horizontal",
                            "columnsAsLabels": true,
                            "labelFirstColumn": true,
                            "legendPosition": "top"
                        }
                    },
                    "execution_count": 8,
                    "data": {
                        "application/vnd.dataresource+json": {
                            "schema": {
                                "fields": [
                                    {
                                        "name": "category"
                                    },
                                    {
                                        "name": "total_sales"
                                    }
                                ]
                            },
                            "data": [
                                {
                                    "category": "Electronics",
                                    "total_sales": "313810"
                                },
                                {
                                    "category": "Clothing",
                                    "total_sales": "311070"
                                },
                                {
                                    "category": "Beauty",
                                    "total_sales": "286840"
                                }
                            ]
                        },
                        "text/html": [
                            "<table>",
                            "<tr><th>category</th><th>total_sales</th></tr>",
                            "<tr><td>Electronics</td><td>313810</td></tr>",
                            "<tr><td>Clothing</td><td>311070</td></tr>",
                            "<tr><td>Beauty</td><td>286840</td></tr>",
                            "</table>"
                        ]
                    }
                }
            ],
            "execution_count": 8
        },
        {
            "cell_type": "markdown",
            "source": [
                "## 2. What are the peak sales times during the day?"
            ],
            "metadata": {
                "language": "sql",
                "azdata_cell_guid": "8857b05c-d1a0-4f3f-aae8-f95f602e749f"
            },
            "attachments": {}
        },
        {
            "cell_type": "code",
            "source": [
                "SELECT\n",
                "    EXTRACT(HOUR FROM sale_time) AS Peak_Hour,\n",
                "    SUM(total_sale) AS Total_Sales\n",
                "FROM\n",
                "    retail_sales\n",
                "GROUP BY\n",
                "    Peak_Hour\n",
                "ORDER BY\n",
                "    Peak_Hour;"
            ],
            "metadata": {
                "language": "sql",
                "azdata_cell_guid": "692fa915-2529-489e-908b-7154b702d22e"
            },
            "outputs": [
                {
                    "output_type": "display_data",
                    "data": {
                        "text/html": "(18 row(s) affected)"
                    },
                    "metadata": {}
                },
                {
                    "output_type": "display_data",
                    "data": {
                        "text/html": "Total execution time: 00:00:00.003"
                    },
                    "metadata": {}
                },
                {
                    "output_type": "execute_result",
                    "metadata": {
                        "azdata_chartOptions": {
                            "type": "bar",
                            "dataDirection": "vertical",
                            "columnsAsLabels": true,
                            "labelFirstColumn": true,
                            "legendPosition": "top"
                        }
                    },
                    "execution_count": 22,
                    "data": {
                        "application/vnd.dataresource+json": {
                            "schema": {
                                "fields": [
                                    {
                                        "name": "peak_hour"
                                    },
                                    {
                                        "name": "total_sales"
                                    }
                                ]
                            },
                            "data": [
                                {
                                    "peak_hour": "6",
                                    "total_sales": "38070"
                                },
                                {
                                    "peak_hour": "7",
                                    "total_sales": "46625"
                                },
                                {
                                    "peak_hour": "8",
                                    "total_sales": "46550"
                                },
                                {
                                    "peak_hour": "9",
                                    "total_sales": "38330"
                                },
                                {
                                    "peak_hour": "10",
                                    "total_sales": "43350"
                                },
                                {
                                    "peak_hour": "11",
                                    "total_sales": "46975"
                                },
                                {
                                    "peak_hour": "12",
                                    "total_sales": "12475"
                                },
                                {
                                    "peak_hour": "13",
                                    "total_sales": "15650"
                                },
                                {
                                    "peak_hour": "14",
                                    "total_sales": "18900"
                                },
                                {
                                    "peak_hour": "15",
                                    "total_sales": "15410"
                                },
                                {
                                    "peak_hour": "16",
                                    "total_sales": "16965"
                                },
                                {
                                    "peak_hour": "17",
                                    "total_sales": "96480"
                                },
                                {
                                    "peak_hour": "18",
                                    "total_sales": "91090"
                                },
                                {
                                    "peak_hour": "19",
                                    "total_sales": "109460"
                                },
                                {
                                    "peak_hour": "20",
                                    "total_sales": "93035"
                                },
                                {
                                    "peak_hour": "21",
                                    "total_sales": "97650"
                                },
                                {
                                    "peak_hour": "22",
                                    "total_sales": "82245"
                                },
                                {
                                    "peak_hour": "23",
                                    "total_sales": "2460"
                                }
                            ]
                        },
                        "text/html": [
                            "<table>",
                            "<tr><th>peak_hour</th><th>total_sales</th></tr>",
                            "<tr><td>6</td><td>38070</td></tr>",
                            "<tr><td>7</td><td>46625</td></tr>",
                            "<tr><td>8</td><td>46550</td></tr>",
                            "<tr><td>9</td><td>38330</td></tr>",
                            "<tr><td>10</td><td>43350</td></tr>",
                            "<tr><td>11</td><td>46975</td></tr>",
                            "<tr><td>12</td><td>12475</td></tr>",
                            "<tr><td>13</td><td>15650</td></tr>",
                            "<tr><td>14</td><td>18900</td></tr>",
                            "<tr><td>15</td><td>15410</td></tr>",
                            "<tr><td>16</td><td>16965</td></tr>",
                            "<tr><td>17</td><td>96480</td></tr>",
                            "<tr><td>18</td><td>91090</td></tr>",
                            "<tr><td>19</td><td>109460</td></tr>",
                            "<tr><td>20</td><td>93035</td></tr>",
                            "<tr><td>21</td><td>97650</td></tr>",
                            "<tr><td>22</td><td>82245</td></tr>",
                            "<tr><td>23</td><td>2460</td></tr>",
                            "</table>"
                        ]
                    }
                }
            ],
            "execution_count": 22
        },
        {
            "cell_type": "markdown",
            "source": [
                "## 3. Which age groups contribute the most to overall sales?"
            ],
            "metadata": {
                "language": "sql",
                "azdata_cell_guid": "f8bc56f6-3751-4c7b-914e-3619429f3006"
            },
            "attachments": {}
        },
        {
            "cell_type": "code",
            "source": [
                "SELECT CASE\n",
                "\tWHEN age BETWEEN 18 AND 29 THEN '18-29'\n",
                "\tWHEN age BETWEEN 30 AND 39 THEN '30-39'\n",
                "\tWHEN age BETWEEN 40 AND 49 THEN '40-49'\n",
                "\tELSE 'Senior Citizen'\n",
                "END AS Age_Group, SUM(total_sale) AS Overall_Sales\n",
                "FROM\n",
                "\tretail_sales\n",
                "GROUP BY\n",
                "\tAge_Group\n",
                "ORDER BY\n",
                "\tOverall_Sales DESC;"
            ],
            "metadata": {
                "language": "sql",
                "azdata_cell_guid": "93782e26-546a-44c1-80bf-8b4809d3d38b"
            },
            "outputs": [
                {
                    "output_type": "display_data",
                    "data": {
                        "text/html": "(4 row(s) affected)"
                    },
                    "metadata": {}
                },
                {
                    "output_type": "display_data",
                    "data": {
                        "text/html": "Total execution time: 00:00:00.003"
                    },
                    "metadata": {}
                },
                {
                    "output_type": "execute_result",
                    "metadata": {
                        "azdata_chartOptions": {
                            "type": "bar",
                            "dataDirection": "horizontal",
                            "columnsAsLabels": true,
                            "labelFirstColumn": true,
                            "legendPosition": "top"
                        }
                    },
                    "execution_count": 10,
                    "data": {
                        "application/vnd.dataresource+json": {
                            "schema": {
                                "fields": [
                                    {
                                        "name": "age_group"
                                    },
                                    {
                                        "name": "overall_sales"
                                    }
                                ]
                            },
                            "data": [
                                {
                                    "age_group": "Senior Citizen",
                                    "overall_sales": "282845"
                                },
                                {
                                    "age_group": "18-29",
                                    "overall_sales": "246170"
                                },
                                {
                                    "age_group": "30-39",
                                    "overall_sales": "192560"
                                },
                                {
                                    "age_group": "40-49",
                                    "overall_sales": "190145"
                                }
                            ]
                        },
                        "text/html": [
                            "<table>",
                            "<tr><th>age_group</th><th>overall_sales</th></tr>",
                            "<tr><td>Senior Citizen</td><td>282845</td></tr>",
                            "<tr><td>18-29</td><td>246170</td></tr>",
                            "<tr><td>30-39</td><td>192560</td></tr>",
                            "<tr><td>40-49</td><td>190145</td></tr>",
                            "</table>"
                        ]
                    }
                }
            ],
            "execution_count": 10
        },
        {
            "cell_type": "markdown",
            "source": [
                "## 4. How do sales differ between male and female customers?"
            ],
            "metadata": {
                "language": "sql",
                "azdata_cell_guid": "b77786f8-42bb-49a9-8286-f22e3752f189"
            },
            "attachments": {}
        },
        {
            "cell_type": "code",
            "source": [
                "SELECT\n",
                "    gender,\n",
                "    SUM(total_sale) AS Overall_Sales,\n",
                "\tcategory\n",
                "FROM\n",
                "\tretail_sales\n",
                "GROUP BY\n",
                "\tgender, category\n",
                "ORDER BY\n",
                "\tgender;"
            ],
            "metadata": {
                "language": "sql",
                "azdata_cell_guid": "0297d36f-e8b3-4983-a762-5420696be5d1"
            },
            "outputs": [
                {
                    "output_type": "display_data",
                    "data": {
                        "text/html": "(6 row(s) affected)"
                    },
                    "metadata": {}
                },
                {
                    "output_type": "display_data",
                    "data": {
                        "text/html": "Total execution time: 00:00:00.002"
                    },
                    "metadata": {}
                },
                {
                    "output_type": "execute_result",
                    "metadata": {},
                    "execution_count": 23,
                    "data": {
                        "application/vnd.dataresource+json": {
                            "schema": {
                                "fields": [
                                    {
                                        "name": "gender"
                                    },
                                    {
                                        "name": "overall_sales"
                                    },
                                    {
                                        "name": "category"
                                    }
                                ]
                            },
                            "data": [
                                {
                                    "gender": "Female",
                                    "overall_sales": "149470",
                                    "category": "Beauty"
                                },
                                {
                                    "gender": "Female",
                                    "overall_sales": "162460",
                                    "category": "Clothing"
                                },
                                {
                                    "gender": "Female",
                                    "overall_sales": "153470",
                                    "category": "Electronics"
                                },
                                {
                                    "gender": "Male",
                                    "overall_sales": "160340",
                                    "category": "Electronics"
                                },
                                {
                                    "gender": "Male",
                                    "overall_sales": "148610",
                                    "category": "Clothing"
                                },
                                {
                                    "gender": "Male",
                                    "overall_sales": "137370",
                                    "category": "Beauty"
                                }
                            ]
                        },
                        "text/html": [
                            "<table>",
                            "<tr><th>gender</th><th>overall_sales</th><th>category</th></tr>",
                            "<tr><td>Female</td><td>149470</td><td>Beauty</td></tr>",
                            "<tr><td>Female</td><td>162460</td><td>Clothing</td></tr>",
                            "<tr><td>Female</td><td>153470</td><td>Electronics</td></tr>",
                            "<tr><td>Male</td><td>160340</td><td>Electronics</td></tr>",
                            "<tr><td>Male</td><td>148610</td><td>Clothing</td></tr>",
                            "<tr><td>Male</td><td>137370</td><td>Beauty</td></tr>",
                            "</table>"
                        ]
                    }
                }
            ],
            "execution_count": 23
        },
        {
            "cell_type": "markdown",
            "source": [
                "## 5. Which customers (by customer_id) are the most valuable in terms of total purchases?"
            ],
            "metadata": {
                "language": "sql",
                "azdata_cell_guid": "6f5ffe8d-fde0-4116-8b28-d654d369f8bb"
            },
            "attachments": {}
        },
        {
            "cell_type": "code",
            "source": [
                "-- SELECT customer_id, SUM(total_sale) as Max_spent FROM retail_sales  GROUP BY customer_id ORDER BY Max_spent DESC;\n",
                "SELECT \n",
                "\tcustomer_id,\n",
                "\tSUM(total_sale) as Max_spent \n",
                "FROM \n",
                "\tretail_sales \n",
                "GROUP BY \n",
                "\tcustomer_id\n",
                "ORDER BY\n",
                "\tMax_spent DESC\n",
                "LIMIT 5;"
            ],
            "metadata": {
                "language": "sql",
                "azdata_cell_guid": "ed1827e3-7790-47eb-bc14-4ba495451b1c"
            },
            "outputs": [
                {
                    "output_type": "display_data",
                    "data": {
                        "text/html": "(5 row(s) affected)"
                    },
                    "metadata": {}
                },
                {
                    "output_type": "display_data",
                    "data": {
                        "text/html": "Total execution time: 00:00:00.002"
                    },
                    "metadata": {}
                },
                {
                    "output_type": "execute_result",
                    "metadata": {
                        "azdata_chartOptions": {
                            "type": "bar",
                            "dataDirection": "horizontal",
                            "columnsAsLabels": true,
                            "labelFirstColumn": true,
                            "legendPosition": "top"
                        }
                    },
                    "execution_count": 12,
                    "data": {
                        "application/vnd.dataresource+json": {
                            "schema": {
                                "fields": [
                                    {
                                        "name": "customer_id"
                                    },
                                    {
                                        "name": "max_spent"
                                    }
                                ]
                            },
                            "data": [
                                {
                                    "customer_id": "3",
                                    "max_spent": "38440"
                                },
                                {
                                    "customer_id": "1",
                                    "max_spent": "30750"
                                },
                                {
                                    "customer_id": "5",
                                    "max_spent": "30405"
                                },
                                {
                                    "customer_id": "2",
                                    "max_spent": "25295"
                                },
                                {
                                    "customer_id": "4",
                                    "max_spent": "23580"
                                }
                            ]
                        },
                        "text/html": [
                            "<table>",
                            "<tr><th>customer_id</th><th>max_spent</th></tr>",
                            "<tr><td>3</td><td>38440</td></tr>",
                            "<tr><td>1</td><td>30750</td></tr>",
                            "<tr><td>5</td><td>30405</td></tr>",
                            "<tr><td>2</td><td>25295</td></tr>",
                            "<tr><td>4</td><td>23580</td></tr>",
                            "</table>"
                        ]
                    }
                }
            ],
            "execution_count": 12
        },
        {
            "cell_type": "markdown",
            "source": [
                "## 6. What is the profit margin by category (total_sale - cogs)?"
            ],
            "metadata": {
                "language": "sql",
                "azdata_cell_guid": "8e1bb4b9-0ae8-4cbd-9920-d6146edc1e82"
            },
            "attachments": {}
        },
        {
            "cell_type": "code",
            "source": [
                "SELECT\n",
                "\tcategory,\n",
                "\tSUM(total_sale-(cogs*quantity)) AS profit\n",
                "FROM\n",
                "\tretail_sales\n",
                "GROUP BY\n",
                "\tcategory\n",
                "ORDER BY\n",
                "\tprofit DESC;"
            ],
            "metadata": {
                "language": "sql",
                "azdata_cell_guid": "4e275c3e-4aba-4e2e-bdf4-a879414cf75d"
            },
            "outputs": [
                {
                    "output_type": "display_data",
                    "data": {
                        "text/html": "(3 row(s) affected)"
                    },
                    "metadata": {}
                },
                {
                    "output_type": "display_data",
                    "data": {
                        "text/html": "Total execution time: 00:00:00.003"
                    },
                    "metadata": {}
                },
                {
                    "output_type": "execute_result",
                    "metadata": {
                        "azdata_chartOptions": {
                            "type": "bar",
                            "dataDirection": "horizontal",
                            "columnsAsLabels": true,
                            "labelFirstColumn": true,
                            "legendPosition": "top"
                        }
                    },
                    "execution_count": 13,
                    "data": {
                        "application/vnd.dataresource+json": {
                            "schema": {
                                "fields": [
                                    {
                                        "name": "category"
                                    },
                                    {
                                        "name": "profit"
                                    }
                                ]
                            },
                            "data": [
                                {
                                    "category": "Clothing",
                                    "profit": "143949.05000000002"
                                },
                                {
                                    "category": "Electronics",
                                    "profit": "142040.75000000006"
                                },
                                {
                                    "category": "Beauty",
                                    "profit": "137473.29999999996"
                                }
                            ]
                        },
                        "text/html": [
                            "<table>",
                            "<tr><th>category</th><th>profit</th></tr>",
                            "<tr><td>Clothing</td><td>143949.05000000002</td></tr>",
                            "<tr><td>Electronics</td><td>142040.75000000006</td></tr>",
                            "<tr><td>Beauty</td><td>137473.29999999996</td></tr>",
                            "</table>"
                        ]
                    }
                }
            ],
            "execution_count": 13
        },
        {
            "cell_type": "markdown",
            "source": [
                "## 7. What is the trend in sales over time (daily, weekly or monthly)?"
            ],
            "metadata": {
                "language": "sql",
                "azdata_cell_guid": "1264296e-6976-4577-89ab-1fe36568e507"
            },
            "attachments": {}
        },
        {
            "cell_type": "code",
            "source": [
                "SELECT\n",
                "\tEXTRACT(MONTH FROM sale_date) AS Months,\n",
                "\tSUM (total_sale) as Total_Sale\n",
                "FROM\n",
                "\tretail_sales\n",
                "GROUP BY\n",
                "\tMonths\n",
                "ORDER BY\n",
                "\tMonths;\n",
                "\n",
                "SELECT\n",
                "\tEXTRACT(YEAR FROM sale_date) AS Years,\n",
                "\tSUM (total_sale) as Total_Sale\n",
                "FROM\n",
                "\tretail_sales\n",
                "GROUP BY\n",
                "\tYears\n",
                "ORDER BY\n",
                "\tYears;"
            ],
            "metadata": {
                "language": "sql",
                "azdata_cell_guid": "506222a9-c23e-452c-b7cd-bd228614ad2e"
            },
            "outputs": [
                {
                    "output_type": "display_data",
                    "data": {
                        "text/html": "(12 row(s) affected)"
                    },
                    "metadata": {}
                },
                {
                    "output_type": "display_data",
                    "data": {
                        "text/html": "(2 row(s) affected)"
                    },
                    "metadata": {}
                },
                {
                    "output_type": "display_data",
                    "data": {
                        "text/html": "Total execution time: 00:00:00.010"
                    },
                    "metadata": {}
                },
                {
                    "output_type": "execute_result",
                    "metadata": {
                        "azdata_chartOptions": {
                            "type": "line",
                            "dataDirection": "vertical",
                            "columnsAsLabels": true,
                            "labelFirstColumn": false,
                            "legendPosition": "top",
                            "dataType": "number"
                        }
                    },
                    "execution_count": 14,
                    "data": {
                        "application/vnd.dataresource+json": {
                            "schema": {
                                "fields": [
                                    {
                                        "name": "months"
                                    },
                                    {
                                        "name": "total_sale"
                                    }
                                ]
                            },
                            "data": [
                                {
                                    "months": "1",
                                    "total_sale": "46425"
                                },
                                {
                                    "months": "2",
                                    "total_sale": "41280"
                                },
                                {
                                    "months": "3",
                                    "total_sale": "45035"
                                },
                                {
                                    "months": "4",
                                    "total_sale": "50630"
                                },
                                {
                                    "months": "5",
                                    "total_sale": "51990"
                                },
                                {
                                    "months": "6",
                                    "total_sale": "45255"
                                },
                                {
                                    "months": "7",
                                    "total_sale": "58120"
                                },
                                {
                                    "months": "8",
                                    "total_sale": "49465"
                                },
                                {
                                    "months": "9",
                                    "total_sale": "129330"
                                },
                                {
                                    "months": "10",
                                    "total_sale": "126115"
                                },
                                {
                                    "months": "11",
                                    "total_sale": "126050"
                                },
                                {
                                    "months": "12",
                                    "total_sale": "142025"
                                }
                            ]
                        },
                        "text/html": [
                            "<table>",
                            "<tr><th>months</th><th>total_sale</th></tr>",
                            "<tr><td>1</td><td>46425</td></tr>",
                            "<tr><td>2</td><td>41280</td></tr>",
                            "<tr><td>3</td><td>45035</td></tr>",
                            "<tr><td>4</td><td>50630</td></tr>",
                            "<tr><td>5</td><td>51990</td></tr>",
                            "<tr><td>6</td><td>45255</td></tr>",
                            "<tr><td>7</td><td>58120</td></tr>",
                            "<tr><td>8</td><td>49465</td></tr>",
                            "<tr><td>9</td><td>129330</td></tr>",
                            "<tr><td>10</td><td>126115</td></tr>",
                            "<tr><td>11</td><td>126050</td></tr>",
                            "<tr><td>12</td><td>142025</td></tr>",
                            "</table>"
                        ]
                    }
                },
                {
                    "output_type": "execute_result",
                    "metadata": {
                        "azdata_chartOptions": {
                            "type": "line",
                            "dataDirection": "vertical",
                            "columnsAsLabels": true,
                            "labelFirstColumn": false,
                            "legendPosition": "top",
                            "dataType": "number"
                        }
                    },
                    "execution_count": 14,
                    "data": {
                        "application/vnd.dataresource+json": {
                            "schema": {
                                "fields": [
                                    {
                                        "name": "years"
                                    },
                                    {
                                        "name": "total_sale"
                                    }
                                ]
                            },
                            "data": [
                                {
                                    "years": "2022",
                                    "total_sale": "452825"
                                },
                                {
                                    "years": "2023",
                                    "total_sale": "458895"
                                }
                            ]
                        },
                        "text/html": [
                            "<table>",
                            "<tr><th>years</th><th>total_sale</th></tr>",
                            "<tr><td>2022</td><td>452825</td></tr>",
                            "<tr><td>2023</td><td>458895</td></tr>",
                            "</table>"
                        ]
                    }
                }
            ],
            "execution_count": 14
        },
        {
            "cell_type": "markdown",
            "source": [
                "## 8. Which product categories have the highest number of items sold?"
            ],
            "metadata": {
                "language": "sql",
                "azdata_cell_guid": "8b04eee8-7d44-41c3-a4db-c087ce5eea1e"
            },
            "attachments": {}
        },
        {
            "cell_type": "code",
            "source": [
                "SELECT\n",
                "\tcategory,\n",
                "\tSUM(quantity) AS Items_sold\n",
                "FROM\n",
                "\tretail_sales\n",
                "GROUP BY\n",
                "\tcategory\n",
                "ORDER BY\n",
                "\tItems_sold DESC;"
            ],
            "metadata": {
                "language": "sql",
                "azdata_cell_guid": "1a0ec12c-a8a6-4c4c-b0e4-ce5bf7e40317"
            },
            "outputs": [
                {
                    "output_type": "display_data",
                    "data": {
                        "text/html": "(3 row(s) affected)"
                    },
                    "metadata": {}
                },
                {
                    "output_type": "display_data",
                    "data": {
                        "text/html": "Total execution time: 00:00:00.002"
                    },
                    "metadata": {}
                },
                {
                    "output_type": "execute_result",
                    "metadata": {
                        "azdata_chartOptions": {
                            "type": "bar",
                            "dataDirection": "horizontal",
                            "columnsAsLabels": true,
                            "labelFirstColumn": true,
                            "legendPosition": "top"
                        }
                    },
                    "execution_count": 15,
                    "data": {
                        "application/vnd.dataresource+json": {
                            "schema": {
                                "fields": [
                                    {
                                        "name": "category"
                                    },
                                    {
                                        "name": "items_sold"
                                    }
                                ]
                            },
                            "data": [
                                {
                                    "category": "Clothing",
                                    "items_sold": "1785"
                                },
                                {
                                    "category": "Electronics",
                                    "items_sold": "1698"
                                },
                                {
                                    "category": "Beauty",
                                    "items_sold": "1535"
                                }
                            ]
                        },
                        "text/html": [
                            "<table>",
                            "<tr><th>category</th><th>items_sold</th></tr>",
                            "<tr><td>Clothing</td><td>1785</td></tr>",
                            "<tr><td>Electronics</td><td>1698</td></tr>",
                            "<tr><td>Beauty</td><td>1535</td></tr>",
                            "</table>"
                        ]
                    }
                }
            ],
            "execution_count": 15
        },
        {
            "cell_type": "markdown",
            "source": [
                "## 9. Which days of the week generate the highest sales and profits?"
            ],
            "metadata": {
                "language": "sql",
                "azdata_cell_guid": "4af6abaa-ea3e-4e50-8816-1bdaf0b8ac80"
            },
            "attachments": {}
        },
        {
            "cell_type": "code",
            "source": [
                "SELECT\n",
                "    TO_CHAR(sale_date, 'Day') AS day_of_week,\n",
                "    SUM(total_sale) AS total_sales\n",
                "FROM\n",
                "    retail_sales\n",
                "GROUP BY\n",
                "    day_of_week\n",
                "ORDER BY\n",
                "    total_sales DESC;"
            ],
            "metadata": {
                "language": "sql",
                "azdata_cell_guid": "51619052-fec7-48b3-b1ef-60231e0fc446"
            },
            "outputs": [
                {
                    "output_type": "display_data",
                    "data": {
                        "text/html": "(7 row(s) affected)"
                    },
                    "metadata": {}
                },
                {
                    "output_type": "display_data",
                    "data": {
                        "text/html": "Total execution time: 00:00:00.015"
                    },
                    "metadata": {}
                },
                {
                    "output_type": "execute_result",
                    "metadata": {
                        "azdata_chartOptions": {
                            "type": "bar",
                            "dataDirection": "horizontal",
                            "columnsAsLabels": true,
                            "labelFirstColumn": true,
                            "legendPosition": "top"
                        }
                    },
                    "execution_count": 16,
                    "data": {
                        "application/vnd.dataresource+json": {
                            "schema": {
                                "fields": [
                                    {
                                        "name": "day_of_week"
                                    },
                                    {
                                        "name": "total_sales"
                                    }
                                ]
                            },
                            "data": [
                                {
                                    "day_of_week": "Sunday   ",
                                    "total_sales": "153800"
                                },
                                {
                                    "day_of_week": "Monday   ",
                                    "total_sales": "147695"
                                },
                                {
                                    "day_of_week": "Saturday ",
                                    "total_sales": "141400"
                                },
                                {
                                    "day_of_week": "Thursday ",
                                    "total_sales": "124085"
                                },
                                {
                                    "day_of_week": "Friday   ",
                                    "total_sales": "120730"
                                },
                                {
                                    "day_of_week": "Wednesday",
                                    "total_sales": "120615"
                                },
                                {
                                    "day_of_week": "Tuesday  ",
                                    "total_sales": "103395"
                                }
                            ]
                        },
                        "text/html": [
                            "<table>",
                            "<tr><th>day_of_week</th><th>total_sales</th></tr>",
                            "<tr><td>Sunday   </td><td>153800</td></tr>",
                            "<tr><td>Monday   </td><td>147695</td></tr>",
                            "<tr><td>Saturday </td><td>141400</td></tr>",
                            "<tr><td>Thursday </td><td>124085</td></tr>",
                            "<tr><td>Friday   </td><td>120730</td></tr>",
                            "<tr><td>Wednesday</td><td>120615</td></tr>",
                            "<tr><td>Tuesday  </td><td>103395</td></tr>",
                            "</table>"
                        ]
                    }
                }
            ],
            "execution_count": 16
        },
        {
            "cell_type": "code",
            "source": [
                "SELECT\n",
                "    TO_CHAR(sale_date, 'Day') AS day_of_week,\n",
                "    SUM(total_sale - (cogs * quantity)) AS total_profit\n",
                "FROM\n",
                "    retail_sales\n",
                "GROUP BY\n",
                "    day_of_week\n",
                "ORDER BY\n",
                "    total_profit DESC;"
            ],
            "metadata": {
                "language": "sql",
                "azdata_cell_guid": "628edb88-34e7-42f4-b109-88cf8b12ae05"
            },
            "outputs": [
                {
                    "output_type": "display_data",
                    "data": {
                        "text/html": "(7 row(s) affected)"
                    },
                    "metadata": {}
                },
                {
                    "output_type": "display_data",
                    "data": {
                        "text/html": "Total execution time: 00:00:00.004"
                    },
                    "metadata": {}
                },
                {
                    "output_type": "execute_result",
                    "metadata": {
                        "azdata_chartOptions": {
                            "type": "bar",
                            "dataDirection": "horizontal",
                            "columnsAsLabels": true,
                            "labelFirstColumn": true,
                            "legendPosition": "top"
                        }
                    },
                    "execution_count": 17,
                    "data": {
                        "application/vnd.dataresource+json": {
                            "schema": {
                                "fields": [
                                    {
                                        "name": "day_of_week"
                                    },
                                    {
                                        "name": "total_profit"
                                    }
                                ]
                            },
                            "data": [
                                {
                                    "day_of_week": "Monday   ",
                                    "total_profit": "71644.9"
                                },
                                {
                                    "day_of_week": "Thursday ",
                                    "total_profit": "65496.8"
                                },
                                {
                                    "day_of_week": "Sunday   ",
                                    "total_profit": "65368.99999999999"
                                },
                                {
                                    "day_of_week": "Saturday ",
                                    "total_profit": "61105.500000000015"
                                },
                                {
                                    "day_of_week": "Wednesday",
                                    "total_profit": "58681.89999999998"
                                },
                                {
                                    "day_of_week": "Friday   ",
                                    "total_profit": "52111.049999999996"
                                },
                                {
                                    "day_of_week": "Tuesday  ",
                                    "total_profit": "49053.95"
                                }
                            ]
                        },
                        "text/html": [
                            "<table>",
                            "<tr><th>day_of_week</th><th>total_profit</th></tr>",
                            "<tr><td>Monday   </td><td>71644.9</td></tr>",
                            "<tr><td>Thursday </td><td>65496.8</td></tr>",
                            "<tr><td>Sunday   </td><td>65368.99999999999</td></tr>",
                            "<tr><td>Saturday </td><td>61105.500000000015</td></tr>",
                            "<tr><td>Wednesday</td><td>58681.89999999998</td></tr>",
                            "<tr><td>Friday   </td><td>52111.049999999996</td></tr>",
                            "<tr><td>Tuesday  </td><td>49053.95</td></tr>",
                            "</table>"
                        ]
                    }
                }
            ],
            "execution_count": 17
        },
        {
            "cell_type": "markdown",
            "source": [
                "## 10. What is the average price per unit for each category, and how does it impact sales?"
            ],
            "metadata": {
                "language": "sql",
                "azdata_cell_guid": "e02a1861-9a24-42af-a293-2b0243398fa9"
            },
            "attachments": {}
        },
        {
            "cell_type": "code",
            "source": [
                "SELECT\n",
                "\tcategory,\n",
                "\tAVG(price_per_unit) AS Avg_price_by_category,\n",
                "\tAVG(total_sale) AS Avg_sales_by_category\n",
                "FROM\n",
                "\tretail_sales\n",
                "GROUP BY\n",
                "\tcategory\n",
                "ORDER BY\n",
                "\tAvg_price_by_category DESC;"
            ],
            "metadata": {
                "language": "sql",
                "azdata_cell_guid": "783f7621-adcf-44a1-8769-a1470d9e83de"
            },
            "outputs": [
                {
                    "output_type": "display_data",
                    "data": {
                        "text/html": "(3 row(s) affected)"
                    },
                    "metadata": {}
                },
                {
                    "output_type": "display_data",
                    "data": {
                        "text/html": "Total execution time: 00:00:00.012"
                    },
                    "metadata": {}
                },
                {
                    "output_type": "execute_result",
                    "metadata": {
                        "azdata_chartOptions": {
                            "type": "bar",
                            "dataDirection": "horizontal",
                            "columnsAsLabels": true,
                            "labelFirstColumn": true,
                            "legendPosition": "top"
                        }
                    },
                    "execution_count": 18,
                    "data": {
                        "application/vnd.dataresource+json": {
                            "schema": {
                                "fields": [
                                    {
                                        "name": "category"
                                    },
                                    {
                                        "name": "avg_price_by_category"
                                    },
                                    {
                                        "name": "avg_sales_by_category"
                                    }
                                ]
                            },
                            "data": [
                                {
                                    "category": "Beauty",
                                    "avg_price_by_category": "184.56699346405227",
                                    "avg_sales_by_category": "468.6928104575163"
                                },
                                {
                                    "category": "Electronics",
                                    "avg_price_by_category": "181.90058479532163",
                                    "avg_sales_by_category": "458.7865497076023"
                                },
                                {
                                    "category": "Clothing",
                                    "avg_price_by_category": "174.49358059914408",
                                    "avg_sales_by_category": "443.75178316690443"
                                }
                            ]
                        },
                        "text/html": [
                            "<table>",
                            "<tr><th>category</th><th>avg_price_by_category</th><th>avg_sales_by_category</th></tr>",
                            "<tr><td>Beauty</td><td>184.56699346405227</td><td>468.6928104575163</td></tr>",
                            "<tr><td>Electronics</td><td>181.90058479532163</td><td>458.7865497076023</td></tr>",
                            "<tr><td>Clothing</td><td>174.49358059914408</td><td>443.75178316690443</td></tr>",
                            "</table>"
                        ]
                    }
                }
            ],
            "execution_count": 18
        }
    ]
}